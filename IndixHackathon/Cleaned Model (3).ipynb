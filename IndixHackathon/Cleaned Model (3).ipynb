{
 "cells": [
  {
   "cell_type": "code",
   "execution_count": 1,
   "metadata": {
    "collapsed": true
   },
   "outputs": [],
   "source": [
    "def removeNumbers(text):\n",
    "    if not text:\n",
    "        return text\n",
    "    outString=[]\n",
    "    for c in text:\n",
    "        if(not c.isdigit()):\n",
    "            outString.append(c)\n",
    "        else:\n",
    "            outString.append(\" \")\n",
    "    return \"\".join(outString)\n",
    "\n",
    "import string\n",
    "def removePunctuations(text):\n",
    "    if not text:\n",
    "        return text\n",
    "    exclude = set(string.punctuation)\n",
    "    outString=[]\n",
    "    for c in text:\n",
    "        if(c not in exclude):\n",
    "            outString.append(c)\n",
    "        else:\n",
    "            outString.append(\" \")\n",
    "    return \"\".join(outString)\n",
    "\n",
    "def removeSingleLetters(text):\n",
    "    outString=[]\n",
    "    for c in text.split():\n",
    "        if(len(c)>=2):\n",
    "            outString.append(c)\n",
    "        else:\n",
    "            outString.append(\" \")\n",
    "    return \" \".join(outString)\n",
    "\n",
    "from nltk.corpus import stopwords\n",
    "stop = stopwords.words('english')\n",
    "def removeStopWords(text):\n",
    "    outString=[]\n",
    "    for c in text.split():\n",
    "        if(c not in stop):\n",
    "            outString.append(c)\n",
    "        else:\n",
    "            outString.append(\" \")\n",
    "    return \" \".join(outString)\n",
    "\n",
    "def final_clean(txt):\n",
    "    txt = removePunctuations(txt)\n",
    "    txt = removeNumbers(txt)\n",
    "    txt = removeStopWords(txt)\n",
    "    txt = removeSingleLetters(txt)\n",
    "    txt = txt.lower()\n",
    "    return ' '.join(txt.split())"
   ]
  },
  {
   "cell_type": "code",
   "execution_count": 11,
   "metadata": {
    "collapsed": false
   },
   "outputs": [
    {
     "name": "stderr",
     "output_type": "stream",
     "text": [
      "A newer version of GraphLab Create (v1.8.5) is available! Your current version is v1.8.1.\n",
      "\n",
      "You can use pip to upgrade the graphlab-create package. For more information see https://dato.com/products/create/upgrade.\n"
     ]
    }
   ],
   "source": [
    "import graphlab as gl"
   ]
  },
  {
   "cell_type": "code",
   "execution_count": 27,
   "metadata": {
    "collapsed": false
   },
   "outputs": [
    {
     "name": "stdout",
     "output_type": "stream",
     "text": [
      "PROGRESS: Unable to parse line \"title\tbid\tcid\"\n",
      "PROGRESS: Unable to parse line \"\" 2 Pack Panasonic Compatible KX-FA83 KXFA83 Laser Toner Cartridge, 2,500 Pa\tUnknown\tcomputers & accessories > cables & accessories > printer ink & toner > laser printer toner\"\n",
      "PROGRESS: Unable to parse line \"\"Brocade VDX 6720 - switch - 16 ports - rack-mountable\tBrocade Communication Systems\tcomputers & accessories > networking products > switches\"\n",
      "PROGRESS: Unable to parse line \"\"This hub is built strong and ideal for industrial environments. With the StarTech.com ST4200USBM 4-port hub you can wall-mount or install onto a DIN rail for convenient access to the ports. This four port industrial hub can be bus powered or self powered ...\"\n",
      "PROGRESS: Read 519400 lines. Lines per second: 184191\n",
      "PROGRESS: 4 lines failed to parse correctly\n",
      "PROGRESS: Finished parsing file /Users/sharmilis/Desktop/IndixHackathon/classification_train.tsv\n",
      "PROGRESS: Parsing completed. Parsed 999996 lines in 3.51686 secs.\n"
     ]
    }
   ],
   "source": [
    "my_data = gl.SFrame.read_csv(\"classification_train.tsv\",header=False,delimiter='\\t',column_type_hints=[str,int,int])"
   ]
  },
  {
   "cell_type": "code",
   "execution_count": 28,
   "metadata": {
    "collapsed": false
   },
   "outputs": [
    {
     "data": {
      "text/html": [
       "<div style=\"max-height:1000px;max-width:1500px;overflow:auto;\"><table frame=\"box\" rules=\"cols\">\n",
       "    <tr>\n",
       "        <th style=\"padding-left: 1em; padding-right: 1em; text-align: center\">Title</th>\n",
       "        <th style=\"padding-left: 1em; padding-right: 1em; text-align: center\">brand_id</th>\n",
       "        <th style=\"padding-left: 1em; padding-right: 1em; text-align: center\">category_id</th>\n",
       "    </tr>\n",
       "    <tr>\n",
       "        <td style=\"padding-left: 1em; padding-right: 1em; text-align: center; vertical-align: top\">120GB Hard Disk Drive<br>with 3 Years Warranty ...</td>\n",
       "        <td style=\"padding-left: 1em; padding-right: 1em; text-align: center; vertical-align: top\">3950</td>\n",
       "        <td style=\"padding-left: 1em; padding-right: 1em; text-align: center; vertical-align: top\">8</td>\n",
       "    </tr>\n",
       "    <tr>\n",
       "        <td style=\"padding-left: 1em; padding-right: 1em; text-align: center; vertical-align: top\">TOSHIBA SATELLITE<br>L305-S5919 LAPTOP LCD ...</td>\n",
       "        <td style=\"padding-left: 1em; padding-right: 1em; text-align: center; vertical-align: top\">35099</td>\n",
       "        <td style=\"padding-left: 1em; padding-right: 1em; text-align: center; vertical-align: top\">324</td>\n",
       "    </tr>\n",
       "    <tr>\n",
       "        <td style=\"padding-left: 1em; padding-right: 1em; text-align: center; vertical-align: top\">Hobby-Ace Pixhawk PX4 RGB<br>External LED Indicator ...</td>\n",
       "        <td style=\"padding-left: 1em; padding-right: 1em; text-align: center; vertical-align: top\">21822</td>\n",
       "        <td style=\"padding-left: 1em; padding-right: 1em; text-align: center; vertical-align: top\">510</td>\n",
       "    </tr>\n",
       "    <tr>\n",
       "        <td style=\"padding-left: 1em; padding-right: 1em; text-align: center; vertical-align: top\">Pelicans mousepad</td>\n",
       "        <td style=\"padding-left: 1em; padding-right: 1em; text-align: center; vertical-align: top\">44629</td>\n",
       "        <td style=\"padding-left: 1em; padding-right: 1em; text-align: center; vertical-align: top\">260</td>\n",
       "    </tr>\n",
       "    <tr>\n",
       "        <td style=\"padding-left: 1em; padding-right: 1em; text-align: center; vertical-align: top\">P4648-60029 Hewlett-<br>Packard Tc2100 System ...</td>\n",
       "        <td style=\"padding-left: 1em; padding-right: 1em; text-align: center; vertical-align: top\">42835</td>\n",
       "        <td style=\"padding-left: 1em; padding-right: 1em; text-align: center; vertical-align: top\">68</td>\n",
       "    </tr>\n",
       "    <tr>\n",
       "        <td style=\"padding-left: 1em; padding-right: 1em; text-align: center; vertical-align: top\">Ectaco EI900 SD Card<br>English - Italian ...</td>\n",
       "        <td style=\"padding-left: 1em; padding-right: 1em; text-align: center; vertical-align: top\">249</td>\n",
       "        <td style=\"padding-left: 1em; padding-right: 1em; text-align: center; vertical-align: top\">6</td>\n",
       "    </tr>\n",
       "    <tr>\n",
       "        <td style=\"padding-left: 1em; padding-right: 1em; text-align: center; vertical-align: top\">Zippered Pocket Black<br>School Laptop Tablet  ...</td>\n",
       "        <td style=\"padding-left: 1em; padding-right: 1em; text-align: center; vertical-align: top\">4342</td>\n",
       "        <td style=\"padding-left: 1em; padding-right: 1em; text-align: center; vertical-align: top\">172</td>\n",
       "    </tr>\n",
       "    <tr>\n",
       "        <td style=\"padding-left: 1em; padding-right: 1em; text-align: center; vertical-align: top\">GP Mtr, 3 Ph, ODP, 3 HP,<br>1800 rpm, 182TC ...</td>\n",
       "        <td style=\"padding-left: 1em; padding-right: 1em; text-align: center; vertical-align: top\">42618</td>\n",
       "        <td style=\"padding-left: 1em; padding-right: 1em; text-align: center; vertical-align: top\">616</td>\n",
       "    </tr>\n",
       "    <tr>\n",
       "        <td style=\"padding-left: 1em; padding-right: 1em; text-align: center; vertical-align: top\">DIGI CM 16 PORT RJ-45<br>CONSOLE SERVER - Model#: ...</td>\n",
       "        <td style=\"padding-left: 1em; padding-right: 1em; text-align: center; vertical-align: top\">37012</td>\n",
       "        <td style=\"padding-left: 1em; padding-right: 1em; text-align: center; vertical-align: top\">248</td>\n",
       "    </tr>\n",
       "    <tr>\n",
       "        <td style=\"padding-left: 1em; padding-right: 1em; text-align: center; vertical-align: top\">Lenovo Ibm Thinkpad<br>R52-1859 Laptop AC ...</td>\n",
       "        <td style=\"padding-left: 1em; padding-right: 1em; text-align: center; vertical-align: top\">2024</td>\n",
       "        <td style=\"padding-left: 1em; padding-right: 1em; text-align: center; vertical-align: top\">313</td>\n",
       "    </tr>\n",
       "</table>\n",
       "[999996 rows x 3 columns]<br/>Note: Only the head of the SFrame is printed.<br/>You can use print_rows(num_rows=m, num_columns=n) to print more rows and columns.\n",
       "</div>"
      ],
      "text/plain": [
       "Columns:\n",
       "\tTitle\tstr\n",
       "\tbrand_id\tint\n",
       "\tcategory_id\tint\n",
       "\n",
       "Rows: 999996\n",
       "\n",
       "Data:\n",
       "+-------------------------------+----------+-------------+\n",
       "|             Title             | brand_id | category_id |\n",
       "+-------------------------------+----------+-------------+\n",
       "| 120GB Hard Disk Drive with... |   3950   |      8      |\n",
       "| TOSHIBA SATELLITE L305-S59... |  35099   |     324     |\n",
       "| Hobby-Ace Pixhawk PX4 RGB ... |  21822   |     510     |\n",
       "|       Pelicans mousepad       |  44629   |     260     |\n",
       "| P4648-60029 Hewlett-Packar... |  42835   |      68     |\n",
       "| Ectaco EI900 SD Card Engli... |   249    |      6      |\n",
       "| Zippered Pocket Black Scho... |   4342   |     172     |\n",
       "| GP Mtr, 3 Ph, ODP, 3 HP, 1... |  42618   |     616     |\n",
       "| DIGI CM 16 PORT RJ-45 CONS... |  37012   |     248     |\n",
       "| Lenovo Ibm Thinkpad R52-18... |   2024   |     313     |\n",
       "+-------------------------------+----------+-------------+\n",
       "[999996 rows x 3 columns]\n",
       "Note: Only the head of the SFrame is printed.\n",
       "You can use print_rows(num_rows=m, num_columns=n) to print more rows and columns."
      ]
     },
     "execution_count": 28,
     "metadata": {},
     "output_type": "execute_result"
    }
   ],
   "source": [
    "my_data.rename({'X1': 'Title', 'X2':'brand_id','X3':'category_id'})"
   ]
  },
  {
   "cell_type": "code",
   "execution_count": 59,
   "metadata": {
    "collapsed": false
   },
   "outputs": [
    {
     "name": "stderr",
     "output_type": "stream",
     "text": [
      "/Users/sharmilis/anaconda2/envs/dato-env/lib/python2.7/site-packages/ipykernel/__main__.py:6: UnicodeWarning: Unicode equal comparison failed to convert both arguments to Unicode - interpreting them as being unequal\n"
     ]
    }
   ],
   "source": [
    "my_data['cleaned_title']=my_data['Title'].apply(final_clean)"
   ]
  },
  {
   "cell_type": "code",
   "execution_count": 64,
   "metadata": {
    "collapsed": false
   },
   "outputs": [],
   "source": [
    "possible_classes = list(my_data['brand_id'].unique())"
   ]
  },
  {
   "cell_type": "code",
   "execution_count": 84,
   "metadata": {
    "collapsed": false
   },
   "outputs": [],
   "source": [
    "from sklearn.feature_extraction.text import TfidfVectorizer\n",
    "import nltk\n",
    "def getTFIDFArray(input):\n",
    "\ttfidf = TfidfVectorizer(norm = 'l2',tokenizer=nltk.word_tokenize,stop_words='english',max_df=0.5,min_df=0.01,decode_error ='ignore',max_features=240,ngram_range=(1,3))\n",
    "\treturn tfidf.fit_transform(input)"
   ]
  },
  {
   "cell_type": "code",
   "execution_count": 85,
   "metadata": {
    "collapsed": false
   },
   "outputs": [
    {
     "name": "stdout",
     "output_type": "stream",
     "text": [
      "Start:0End:10000\n",
      "(10000, 240)\n",
      "Start:10000End:20000\n",
      "(10000, 240)\n",
      "Start:20000End:30000\n",
      "(10000, 240)\n",
      "Start:30000End:40000\n",
      "(10000, 240)\n",
      "Start:40000End:50000\n",
      "(10000, 240)\n",
      "Start:50000End:60000\n",
      "(10000, 240)\n",
      "Start:60000End:70000\n",
      "(10000, 240)\n",
      "Start:70000End:80000\n",
      "(10000, 240)\n",
      "Start:80000End:90000\n",
      "(10000, 240)\n",
      "Start:90000End:100000\n",
      "(10000, 240)\n",
      "Start:100000End:110000\n",
      "(10000, 240)\n",
      "Start:110000End:120000\n",
      "(10000, 240)\n",
      "Start:120000End:130000\n",
      "(10000, 240)\n",
      "Start:130000End:140000\n",
      "(10000, 240)\n",
      "Start:140000End:150000\n",
      "(10000, 240)\n",
      "Start:150000End:160000\n",
      "(10000, 240)\n",
      "Start:160000End:170000\n",
      "(10000, 240)\n",
      "Start:170000End:180000\n",
      "(10000, 240)\n",
      "Start:180000End:190000\n",
      "(10000, 240)\n",
      "Start:190000End:200000\n",
      "(10000, 240)\n",
      "Start:200000End:210000\n",
      "(10000, 240)\n",
      "Start:210000End:220000\n",
      "(10000, 240)\n",
      "Start:220000End:230000\n",
      "(10000, 240)\n",
      "Start:230000End:240000\n",
      "(10000, 240)\n",
      "Start:240000End:250000\n",
      "(10000, 240)\n",
      "Start:250000End:260000\n",
      "(10000, 240)\n",
      "Start:260000End:270000\n",
      "(10000, 240)\n",
      "Start:270000End:280000\n",
      "(10000, 240)\n",
      "Start:280000End:290000\n",
      "(10000, 240)\n",
      "Start:290000End:300000\n",
      "(10000, 240)\n",
      "Start:300000End:310000\n",
      "(10000, 240)\n",
      "Start:310000End:320000\n",
      "(10000, 240)\n",
      "Start:320000End:330000\n",
      "(10000, 240)\n",
      "Start:330000End:340000\n",
      "(10000, 240)\n",
      "Start:340000End:350000\n",
      "(10000, 240)\n",
      "Start:350000End:360000\n",
      "(10000, 240)\n",
      "Start:360000End:370000\n",
      "(10000, 240)\n",
      "Start:370000End:380000\n",
      "(10000, 240)\n",
      "Start:380000End:390000\n",
      "(10000, 240)\n",
      "Start:390000End:400000\n",
      "(10000, 240)\n",
      "Start:400000End:410000\n",
      "(10000, 240)\n",
      "Start:410000End:420000\n",
      "(10000, 240)\n",
      "Start:420000End:430000\n",
      "(10000, 240)\n",
      "Start:430000End:440000\n",
      "(10000, 240)\n",
      "Start:440000End:450000\n",
      "(10000, 240)\n",
      "Start:450000End:460000\n",
      "(10000, 240)\n",
      "Start:460000End:470000\n",
      "(10000, 240)\n",
      "Start:470000End:480000\n",
      "(10000, 240)\n",
      "Start:480000End:490000\n",
      "(10000, 240)\n",
      "Start:490000End:500000\n",
      "(10000, 240)\n",
      "Start:500000End:510000\n",
      "(10000, 240)\n",
      "Start:510000End:520000\n",
      "(10000, 240)\n",
      "Start:520000End:530000\n",
      "(10000, 240)\n",
      "Start:530000End:540000\n",
      "(10000, 240)\n",
      "Start:540000End:550000\n",
      "(10000, 240)\n",
      "Start:550000End:560000\n",
      "(10000, 240)\n",
      "Start:560000End:570000\n",
      "(10000, 240)\n",
      "Start:570000End:580000\n",
      "(10000, 240)\n",
      "Start:580000End:590000\n",
      "(10000, 240)\n",
      "Start:590000End:600000\n",
      "(10000, 240)\n",
      "Start:600000End:610000\n",
      "(10000, 240)\n",
      "Start:610000End:620000\n",
      "(10000, 240)\n",
      "Start:620000End:630000\n",
      "(10000, 240)\n",
      "Start:630000End:640000\n",
      "(10000, 240)\n",
      "Start:640000End:650000\n",
      "(10000, 240)\n",
      "Start:650000End:660000\n",
      "(10000, 240)\n",
      "Start:660000End:670000\n",
      "(10000, 240)\n",
      "Start:670000End:680000\n",
      "(10000, 240)\n",
      "Start:680000End:690000\n",
      "(10000, 240)\n",
      "Start:690000End:700000\n",
      "(10000, 240)\n",
      "Start:700000End:710000\n",
      "(10000, 240)\n",
      "Start:710000End:720000\n",
      "(10000, 240)\n",
      "Start:720000End:730000\n",
      "(10000, 240)\n",
      "Start:730000End:740000\n",
      "(10000, 240)\n",
      "Start:740000End:750000\n",
      "(10000, 240)\n",
      "Start:750000End:760000\n",
      "(10000, 240)\n",
      "Start:760000End:770000\n",
      "(10000, 240)\n",
      "Start:770000End:780000\n",
      "(10000, 240)\n",
      "Start:780000End:790000\n",
      "(10000, 240)\n",
      "Start:790000End:800000\n",
      "(10000, 240)\n",
      "Start:800000End:810000\n",
      "(10000, 240)\n",
      "Start:810000End:820000\n",
      "(10000, 240)\n",
      "Start:820000End:830000\n",
      "(10000, 240)\n",
      "Start:830000End:840000\n",
      "(10000, 240)\n",
      "Start:840000End:850000\n",
      "(10000, 240)\n",
      "Start:850000End:860000\n",
      "(10000, 240)\n",
      "Start:860000End:870000\n",
      "(10000, 240)\n",
      "Start:870000End:880000\n",
      "(10000, 240)\n",
      "Start:880000End:890000\n",
      "(10000, 240)\n",
      "Start:890000End:900000\n",
      "(10000, 240)\n",
      "Start:900000End:910000\n",
      "(10000, 240)\n",
      "Start:910000End:920000\n",
      "(10000, 240)\n",
      "Start:920000End:930000\n",
      "(10000, 240)\n",
      "Start:930000End:940000\n",
      "(10000, 240)\n",
      "Start:940000End:950000\n",
      "(10000, 240)\n",
      "Start:950000End:960000\n",
      "(10000, 240)\n",
      "Start:960000End:970000\n",
      "(10000, 240)\n",
      "Start:970000End:980000\n",
      "(10000, 240)\n",
      "Start:980000End:990000\n",
      "(10000, 240)\n",
      "Start:990000End:1000000\n",
      "(9996, 240)\n"
     ]
    }
   ],
   "source": [
    "from sklearn.naive_bayes import MultinomialNB\n",
    "import pandas as pd\n",
    "from scipy.sparse import hstack\n",
    "nbModel2 = MultinomialNB()\n",
    "for x in range(100):\n",
    "    start = (10000*x);\n",
    "    end = start+10000\n",
    "    print 'Start:'+str(start)+\"End:\"+str(end)\n",
    "    trainData = (my_data[start:end]).to_dataframe()\n",
    "    tfidf = getTFIDFArray(trainData['cleaned_title'])\n",
    "    print tfidf.shape\n",
    "    category_sparse = pd.DataFrame(trainData['category_id']).to_sparse()\n",
    "    X_features = hstack((category_sparse,tfidf))\n",
    "    nbModel2.partial_fit(X_features,trainData['brand_id'],possible_classes)"
   ]
  },
  {
   "cell_type": "code",
   "execution_count": 86,
   "metadata": {
    "collapsed": true
   },
   "outputs": [],
   "source": [
    "import cPickle as pickle\n",
    "pickle.dump(nbModel2,open(\"cleaned_model.pkl\",'wb'))"
   ]
  },
  {
   "cell_type": "code",
   "execution_count": 87,
   "metadata": {
    "collapsed": false
   },
   "outputs": [
    {
     "name": "stdout",
     "output_type": "stream",
     "text": [
      "PROGRESS: Read 549207 lines. Lines per second: 258289\n",
      "PROGRESS: Finished parsing file /Users/sharmilis/Desktop/IndixHackathon/classification_blind_set_corrected.tsv\n",
      "PROGRESS: Parsing completed. Parsed 619240 lines in 2.22393 secs.\n"
     ]
    }
   ],
   "source": [
    "my_test_data = gl.SFrame.read_csv(\"classification_blind_set_corrected.tsv\",header=False,delimiter='\\t',column_type_hints=[str,int])"
   ]
  },
  {
   "cell_type": "code",
   "execution_count": 88,
   "metadata": {
    "collapsed": false
   },
   "outputs": [
    {
     "data": {
      "text/html": [
       "<div style=\"max-height:1000px;max-width:1500px;overflow:auto;\"><table frame=\"box\" rules=\"cols\">\n",
       "    <tr>\n",
       "        <th style=\"padding-left: 1em; padding-right: 1em; text-align: center\">Title</th>\n",
       "        <th style=\"padding-left: 1em; padding-right: 1em; text-align: center\">category_id</th>\n",
       "    </tr>\n",
       "    <tr>\n",
       "        <td style=\"padding-left: 1em; padding-right: 1em; text-align: center; vertical-align: top\">HDE Slim Lightweight Auto<br>Sleep Wake Smart Cover ...</td>\n",
       "        <td style=\"padding-left: 1em; padding-right: 1em; text-align: center; vertical-align: top\">367</td>\n",
       "    </tr>\n",
       "    <tr>\n",
       "        <td style=\"padding-left: 1em; padding-right: 1em; text-align: center; vertical-align: top\">V7 Black Toner Cartridge<br>For Canon Image Class ...</td>\n",
       "        <td style=\"padding-left: 1em; padding-right: 1em; text-align: center; vertical-align: top\">625</td>\n",
       "    </tr>\n",
       "    <tr>\n",
       "        <td style=\"padding-left: 1em; padding-right: 1em; text-align: center; vertical-align: top\">Decalrus - Matte<br>Protective Decal Skin ...</td>\n",
       "        <td style=\"padding-left: 1em; padding-right: 1em; text-align: center; vertical-align: top\">250</td>\n",
       "    </tr>\n",
       "    <tr>\n",
       "        <td style=\"padding-left: 1em; padding-right: 1em; text-align: center; vertical-align: top\">Vantec Thermal<br>Technologies 89661 Va ...</td>\n",
       "        <td style=\"padding-left: 1em; padding-right: 1em; text-align: center; vertical-align: top\">309</td>\n",
       "    </tr>\n",
       "    <tr>\n",
       "        <td style=\"padding-left: 1em; padding-right: 1em; text-align: center; vertical-align: top\">Fintie Samsung Galaxy Tab<br>Pro 10.1 Folio Case - ...</td>\n",
       "        <td style=\"padding-left: 1em; padding-right: 1em; text-align: center; vertical-align: top\">71</td>\n",
       "    </tr>\n",
       "    <tr>\n",
       "        <td style=\"padding-left: 1em; padding-right: 1em; text-align: center; vertical-align: top\">Canon Powershot / IXUS /<br>ELPH 330 HS USB Cable - ...</td>\n",
       "        <td style=\"padding-left: 1em; padding-right: 1em; text-align: center; vertical-align: top\">390</td>\n",
       "    </tr>\n",
       "    <tr>\n",
       "        <td style=\"padding-left: 1em; padding-right: 1em; text-align: center; vertical-align: top\">RML USB Standard Type A<br>2.0 Male to Micro USB ...</td>\n",
       "        <td style=\"padding-left: 1em; padding-right: 1em; text-align: center; vertical-align: top\">390</td>\n",
       "    </tr>\n",
       "    <tr>\n",
       "        <td style=\"padding-left: 1em; padding-right: 1em; text-align: center; vertical-align: top\">Axiom 10GBASE-ER Xfp<br>Transceiver for Cisco # ...</td>\n",
       "        <td style=\"padding-left: 1em; padding-right: 1em; text-align: center; vertical-align: top\">530</td>\n",
       "    </tr>\n",
       "    <tr>\n",
       "        <td style=\"padding-left: 1em; padding-right: 1em; text-align: center; vertical-align: top\">Supermicro X8STE Server<br>Motherboard Intel X58 ...</td>\n",
       "        <td style=\"padding-left: 1em; padding-right: 1em; text-align: center; vertical-align: top\">68</td>\n",
       "    </tr>\n",
       "    <tr>\n",
       "        <td style=\"padding-left: 1em; padding-right: 1em; text-align: center; vertical-align: top\">Longruner Card Reader<br>Mini Speakers Mp3 Music ...</td>\n",
       "        <td style=\"padding-left: 1em; padding-right: 1em; text-align: center; vertical-align: top\">569</td>\n",
       "    </tr>\n",
       "</table>\n",
       "[619240 rows x 2 columns]<br/>Note: Only the head of the SFrame is printed.<br/>You can use print_rows(num_rows=m, num_columns=n) to print more rows and columns.\n",
       "</div>"
      ],
      "text/plain": [
       "Columns:\n",
       "\tTitle\tstr\n",
       "\tcategory_id\tint\n",
       "\n",
       "Rows: 619240\n",
       "\n",
       "Data:\n",
       "+-------------------------------+-------------+\n",
       "|             Title             | category_id |\n",
       "+-------------------------------+-------------+\n",
       "| HDE Slim Lightweight Auto ... |     367     |\n",
       "| V7 Black Toner Cartridge F... |     625     |\n",
       "| Decalrus - Matte Protectiv... |     250     |\n",
       "| Vantec Thermal Technologie... |     309     |\n",
       "| Fintie Samsung Galaxy Tab ... |      71     |\n",
       "| Canon Powershot / IXUS / E... |     390     |\n",
       "| RML USB Standard Type A 2.... |     390     |\n",
       "| Axiom 10GBASE-ER Xfp Trans... |     530     |\n",
       "| Supermicro X8STE Server Mo... |      68     |\n",
       "| Longruner Card Reader Mini... |     569     |\n",
       "+-------------------------------+-------------+\n",
       "[619240 rows x 2 columns]\n",
       "Note: Only the head of the SFrame is printed.\n",
       "You can use print_rows(num_rows=m, num_columns=n) to print more rows and columns."
      ]
     },
     "execution_count": 88,
     "metadata": {},
     "output_type": "execute_result"
    }
   ],
   "source": [
    "my_test_data.rename({'X1': 'Title', 'X2':'category_id'})"
   ]
  },
  {
   "cell_type": "code",
   "execution_count": 89,
   "metadata": {
    "collapsed": false
   },
   "outputs": [
    {
     "name": "stderr",
     "output_type": "stream",
     "text": [
      "/Users/sharmilis/anaconda2/envs/dato-env/lib/python2.7/site-packages/ipykernel/__main__.py:6: UnicodeWarning: Unicode equal comparison failed to convert both arguments to Unicode - interpreting them as being unequal\n"
     ]
    }
   ],
   "source": [
    "my_test_data['cleaned_title']=my_test_data['Title'].apply(final_clean)"
   ]
  },
  {
   "cell_type": "code",
   "execution_count": 91,
   "metadata": {
    "collapsed": false
   },
   "outputs": [
    {
     "name": "stdout",
     "output_type": "stream",
     "text": [
      "Start:0End:10000\n",
      "10000\n",
      "Start:10000End:20000\n",
      "10000\n",
      "Start:20000End:30000\n",
      "10000\n",
      "Start:30000End:40000\n",
      "10000\n",
      "Start:40000End:50000\n",
      "10000\n",
      "Start:50000End:60000\n",
      "10000\n",
      "Start:60000End:70000\n",
      "10000\n",
      "Start:70000End:80000\n",
      "10000\n",
      "Start:80000End:90000\n",
      "10000\n",
      "Start:90000End:100000\n",
      "10000\n",
      "Start:100000End:110000\n",
      "10000\n",
      "Start:110000End:120000\n",
      "10000\n",
      "Start:120000End:130000\n",
      "10000\n",
      "Start:130000End:140000\n",
      "10000\n",
      "Start:140000End:150000\n",
      "10000\n",
      "Start:150000End:160000\n",
      "10000\n",
      "Start:160000End:170000\n",
      "10000\n",
      "Start:170000End:180000\n",
      "10000\n",
      "Start:180000End:190000\n",
      "10000\n",
      "Start:190000End:200000\n",
      "10000\n",
      "Start:200000End:210000\n",
      "10000\n",
      "Start:210000End:220000\n",
      "10000\n",
      "Start:220000End:230000\n",
      "10000\n",
      "Start:230000End:240000\n",
      "10000\n",
      "Start:240000End:250000\n",
      "10000\n",
      "Start:250000End:260000\n",
      "10000\n",
      "Start:260000End:270000\n",
      "10000\n",
      "Start:270000End:280000\n",
      "10000\n",
      "Start:280000End:290000\n",
      "10000\n",
      "Start:290000End:300000\n",
      "10000\n",
      "Start:300000End:310000\n",
      "10000\n",
      "Start:310000End:320000\n",
      "10000\n",
      "Start:320000End:330000\n",
      "10000\n",
      "Start:330000End:340000\n",
      "10000\n",
      "Start:340000End:350000\n",
      "10000\n",
      "Start:350000End:360000\n",
      "10000\n",
      "Start:360000End:370000\n",
      "10000\n",
      "Start:370000End:380000\n",
      "10000\n",
      "Start:380000End:390000\n",
      "10000\n",
      "Start:390000End:400000\n",
      "10000\n",
      "Start:400000End:410000\n",
      "10000\n",
      "Start:410000End:420000\n",
      "10000\n",
      "Start:420000End:430000\n",
      "10000\n",
      "Start:430000End:440000\n",
      "10000\n",
      "Start:440000End:450000\n",
      "10000\n",
      "Start:450000End:460000\n",
      "10000\n",
      "Start:460000End:470000\n",
      "10000\n",
      "Start:470000End:480000\n",
      "10000\n",
      "Start:480000End:490000\n",
      "10000\n",
      "Start:490000End:500000\n",
      "10000\n",
      "Start:500000End:510000\n",
      "10000\n",
      "Start:510000End:520000\n",
      "10000\n",
      "Start:520000End:530000\n",
      "10000\n",
      "Start:530000End:540000\n",
      "10000\n",
      "Start:540000End:550000\n",
      "10000\n",
      "Start:550000End:560000\n",
      "10000\n",
      "Start:560000End:570000\n",
      "10000\n",
      "Start:570000End:580000\n",
      "10000\n",
      "Start:580000End:590000\n",
      "10000\n",
      "Start:590000End:600000\n",
      "10000\n",
      "Start:600000End:610000\n",
      "10000\n",
      "Start:610000End:620000\n",
      "9240\n"
     ]
    }
   ],
   "source": [
    "outfile = open(\"predictions3.txt\", \"w+\")\n",
    "for i in range(62):\n",
    "    start = (10000*i);\n",
    "    end = start+10000\n",
    "    print 'Start:'+str(start)+\"End:\"+str(end)\n",
    "    testData = (my_test_data[start:end]).to_dataframe()\n",
    "    \n",
    "    test_tfidf = getTFIDFArray(testData['cleaned_title'])\n",
    "    test_category_sparse = pd.DataFrame(testData['category_id']).to_sparse()\n",
    "    test_X_features = hstack((test_category_sparse,test_tfidf))\n",
    "    \n",
    "    predictions = nbModel2.predict(test_X_features)\n",
    "    for item in predictions:\n",
    "        print>>outfile, str(item)\n",
    "    print len(predictions)\n",
    "outfile.close()"
   ]
  },
  {
   "cell_type": "code",
   "execution_count": 92,
   "metadata": {
    "collapsed": false
   },
   "outputs": [
    {
     "name": "stdout",
     "output_type": "stream",
     "text": [
      "PROGRESS: Finished parsing file /Users/sharmilis/Desktop/IndixHackathon/predictions3.txt\n",
      "PROGRESS: Parsing completed. Parsed 619240 lines in 0.24778 secs.\n"
     ]
    }
   ],
   "source": [
    "first_prediction = gl.SFrame.read_csv(\"predictions3.txt\",header=False,delimiter='\\n',column_type_hints=[int])"
   ]
  },
  {
   "cell_type": "code",
   "execution_count": 93,
   "metadata": {
    "collapsed": false
   },
   "outputs": [
    {
     "name": "stdout",
     "output_type": "stream",
     "text": [
      "PROGRESS: Finished parsing file /Users/sharmilis/Desktop/IndixHackathon/predictions2.txt\n",
      "PROGRESS: Parsing completed. Parsed 619240 lines in 0.138327 secs.\n"
     ]
    }
   ],
   "source": [
    "second_prediction = gl.SFrame.read_csv(\"predictions2.txt\",header=False,delimiter='\\n',column_type_hints=[int])"
   ]
  },
  {
   "cell_type": "code",
   "execution_count": 94,
   "metadata": {
    "collapsed": true
   },
   "outputs": [],
   "source": [
    "sf = gl.SFrame({'first':first_prediction['X1'],'second':second_prediction['X1']})"
   ]
  },
  {
   "cell_type": "code",
   "execution_count": 95,
   "metadata": {
    "collapsed": true
   },
   "outputs": [],
   "source": [
    "def finalConclusion(x):\n",
    "    if(x['second'] == 0):\n",
    "        return x['first']\n",
    "    return x['second']"
   ]
  },
  {
   "cell_type": "code",
   "execution_count": 96,
   "metadata": {
    "collapsed": true
   },
   "outputs": [],
   "source": [
    "predictions = sf.apply(finalConclusion)"
   ]
  },
  {
   "cell_type": "code",
   "execution_count": 97,
   "metadata": {
    "collapsed": true
   },
   "outputs": [],
   "source": [
    "outfile = open(\"predictions3_final.txt\", \"w+\")\n",
    "for item in predictions:\n",
    "    print>>outfile, item\n",
    "outfile.close()"
   ]
  },
  {
   "cell_type": "code",
   "execution_count": null,
   "metadata": {
    "collapsed": true
   },
   "outputs": [],
   "source": []
  }
 ],
 "metadata": {
  "kernelspec": {
   "display_name": "Python 2",
   "language": "python",
   "name": "python2"
  },
  "language_info": {
   "codemirror_mode": {
    "name": "ipython",
    "version": 2
   },
   "file_extension": ".py",
   "mimetype": "text/x-python",
   "name": "python",
   "nbconvert_exporter": "python",
   "pygments_lexer": "ipython2",
   "version": "2.7.11"
  }
 },
 "nbformat": 4,
 "nbformat_minor": 0
}
