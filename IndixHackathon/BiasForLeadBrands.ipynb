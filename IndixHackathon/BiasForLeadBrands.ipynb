{
 "cells": [
  {
   "cell_type": "code",
   "execution_count": 1,
   "metadata": {
    "collapsed": false
   },
   "outputs": [
    {
     "name": "stderr",
     "output_type": "stream",
     "text": [
      "A newer version of GraphLab Create (v1.8.5) is available! Your current version is v1.8.1.\n",
      "\n",
      "You can use pip to upgrade the graphlab-create package. For more information see https://dato.com/products/create/upgrade.\n"
     ]
    }
   ],
   "source": [
    "import graphlab as gl"
   ]
  },
  {
   "cell_type": "code",
   "execution_count": 6,
   "metadata": {
    "collapsed": false
   },
   "outputs": [],
   "source": [
    "import pandas as pd\n",
    "import cPickle as pickle\n",
    "my_data = pickle.load(open(\"cleanedTrainData.pkl\",\"rb\"))"
   ]
  },
  {
   "cell_type": "code",
   "execution_count": 7,
   "metadata": {
    "collapsed": false
   },
   "outputs": [
    {
     "data": {
      "text/plain": [
       "999996"
      ]
     },
     "execution_count": 7,
     "metadata": {},
     "output_type": "execute_result"
    }
   ],
   "source": [
    "len(my_data)"
   ]
  },
  {
   "cell_type": "code",
   "execution_count": 8,
   "metadata": {
    "collapsed": true
   },
   "outputs": [],
   "source": [
    "my_data_sf = gl.SFrame(data=my_data)"
   ]
  },
  {
   "cell_type": "code",
   "execution_count": 172,
   "metadata": {
    "collapsed": false
   },
   "outputs": [],
   "source": [
    "def biasForLeadBrands(text):\n",
    "    words = text.split()\n",
    "    if(('hewlett' in words) or ('hp' in words)):\n",
    "        # my_data_sf[my_data_sf['brand_id'] == 42835] #hewlett packard or hp\n",
    "        return 42835\n",
    "    elif ('dell' in words):\n",
    "        # my_data_sf[my_data_sf['brand_id'] == 42383] #dell\n",
    "        return 42383\n",
    "    elif (('professional' in words) and ('ultra' in words )):\n",
    "        # my_data_sf[my_data_sf['brand_id'] == 30503] # professional ultra\n",
    "        return 30503\n",
    "    elif('kingston' in words):\n",
    "        # my_data_sf[my_data_sf['brand_id'] == 11580] # kingston\n",
    "        return 11580\n",
    "    elif (('decalrus' in words) or ('decal' in words)):\n",
    "        # my_data_sf[my_data_sf['brand_id'] == 26992] #decalrus\n",
    "        return 26992\n",
    "    elif ('lb' in words):\n",
    "        # my_data_sf[my_data_sf['brand_id'] == 22765] #lb\n",
    "        return 22765\n",
    "    elif('startech' in words):\n",
    "        # my_data_sf[my_data_sf['brand_id'] == 19709] #startech\n",
    "        return 19709\n",
    "    elif('rikki' in words):\n",
    "        # my_data_sf[my_data_sf['brand_id'] == 36274] #rikki knighttm\n",
    "        return 36274\n",
    "    elif('zectron' in words):\n",
    "        # my_data_sf[my_data_sf['brand_id'] == 11544] #zectron\n",
    "        return 11544\n",
    "    elif('ibm' in words):\n",
    "        # my_data_sf[my_data_sf['brand_id'] == 4361] #ibm\n",
    "        return 4361\n",
    "    elif('cisco' in words):\n",
    "        # my_data_sf[my_data_sf['brand_id'] == 28720] #cisco\n",
    "        return 28720\n",
    "    elif(('tripp' in words) or ('tripplite' in words)):\n",
    "        # my_data_sf[my_data_sf['brand_id'] == 13325] #tripp or tripp lite\n",
    "        return 13325\n",
    "    elif((('first'in words) or ('xfirst' in words)) and ('savvv' in words)):\n",
    "        # my_data_sf[my_data_sf['brand_id'] == 31194] #first savvv\n",
    "        return 31194\n",
    "    elif ('oem' in words):\n",
    "        # my_data_sf[my_data_sf['brand_id'] == 28421] #oem\n",
    "        return 28421\n",
    "    else:\n",
    "        return 0"
   ]
  },
  {
   "cell_type": "code",
   "execution_count": 173,
   "metadata": {
    "collapsed": false
   },
   "outputs": [
    {
     "name": "stdout",
     "output_type": "stream",
     "text": [
      "PROGRESS: Read 549207 lines. Lines per second: 344200\n",
      "PROGRESS: Finished parsing file /Users/sharmilis/Desktop/IndixHackathon/classification_blind_set_corrected.tsv\n",
      "PROGRESS: Parsing completed. Parsed 619240 lines in 1.6933 secs.\n"
     ]
    }
   ],
   "source": [
    "my_test_data = gl.SFrame.read_csv(\"classification_blind_set_corrected.tsv\",header=False,delimiter='\\t',column_type_hints=[str,int])"
   ]
  },
  {
   "cell_type": "code",
   "execution_count": 174,
   "metadata": {
    "collapsed": false
   },
   "outputs": [
    {
     "data": {
      "text/html": [
       "<div style=\"max-height:1000px;max-width:1500px;overflow:auto;\"><table frame=\"box\" rules=\"cols\">\n",
       "    <tr>\n",
       "        <th style=\"padding-left: 1em; padding-right: 1em; text-align: center\">Title</th>\n",
       "        <th style=\"padding-left: 1em; padding-right: 1em; text-align: center\">category_id</th>\n",
       "    </tr>\n",
       "    <tr>\n",
       "        <td style=\"padding-left: 1em; padding-right: 1em; text-align: center; vertical-align: top\">HDE Slim Lightweight Auto<br>Sleep Wake Smart Cover ...</td>\n",
       "        <td style=\"padding-left: 1em; padding-right: 1em; text-align: center; vertical-align: top\">367</td>\n",
       "    </tr>\n",
       "    <tr>\n",
       "        <td style=\"padding-left: 1em; padding-right: 1em; text-align: center; vertical-align: top\">V7 Black Toner Cartridge<br>For Canon Image Class ...</td>\n",
       "        <td style=\"padding-left: 1em; padding-right: 1em; text-align: center; vertical-align: top\">625</td>\n",
       "    </tr>\n",
       "    <tr>\n",
       "        <td style=\"padding-left: 1em; padding-right: 1em; text-align: center; vertical-align: top\">Decalrus - Matte<br>Protective Decal Skin ...</td>\n",
       "        <td style=\"padding-left: 1em; padding-right: 1em; text-align: center; vertical-align: top\">250</td>\n",
       "    </tr>\n",
       "    <tr>\n",
       "        <td style=\"padding-left: 1em; padding-right: 1em; text-align: center; vertical-align: top\">Vantec Thermal<br>Technologies 89661 Va ...</td>\n",
       "        <td style=\"padding-left: 1em; padding-right: 1em; text-align: center; vertical-align: top\">309</td>\n",
       "    </tr>\n",
       "    <tr>\n",
       "        <td style=\"padding-left: 1em; padding-right: 1em; text-align: center; vertical-align: top\">Fintie Samsung Galaxy Tab<br>Pro 10.1 Folio Case - ...</td>\n",
       "        <td style=\"padding-left: 1em; padding-right: 1em; text-align: center; vertical-align: top\">71</td>\n",
       "    </tr>\n",
       "    <tr>\n",
       "        <td style=\"padding-left: 1em; padding-right: 1em; text-align: center; vertical-align: top\">Canon Powershot / IXUS /<br>ELPH 330 HS USB Cable - ...</td>\n",
       "        <td style=\"padding-left: 1em; padding-right: 1em; text-align: center; vertical-align: top\">390</td>\n",
       "    </tr>\n",
       "    <tr>\n",
       "        <td style=\"padding-left: 1em; padding-right: 1em; text-align: center; vertical-align: top\">RML USB Standard Type A<br>2.0 Male to Micro USB ...</td>\n",
       "        <td style=\"padding-left: 1em; padding-right: 1em; text-align: center; vertical-align: top\">390</td>\n",
       "    </tr>\n",
       "    <tr>\n",
       "        <td style=\"padding-left: 1em; padding-right: 1em; text-align: center; vertical-align: top\">Axiom 10GBASE-ER Xfp<br>Transceiver for Cisco # ...</td>\n",
       "        <td style=\"padding-left: 1em; padding-right: 1em; text-align: center; vertical-align: top\">530</td>\n",
       "    </tr>\n",
       "    <tr>\n",
       "        <td style=\"padding-left: 1em; padding-right: 1em; text-align: center; vertical-align: top\">Supermicro X8STE Server<br>Motherboard Intel X58 ...</td>\n",
       "        <td style=\"padding-left: 1em; padding-right: 1em; text-align: center; vertical-align: top\">68</td>\n",
       "    </tr>\n",
       "    <tr>\n",
       "        <td style=\"padding-left: 1em; padding-right: 1em; text-align: center; vertical-align: top\">Longruner Card Reader<br>Mini Speakers Mp3 Music ...</td>\n",
       "        <td style=\"padding-left: 1em; padding-right: 1em; text-align: center; vertical-align: top\">569</td>\n",
       "    </tr>\n",
       "</table>\n",
       "[619240 rows x 2 columns]<br/>Note: Only the head of the SFrame is printed.<br/>You can use print_rows(num_rows=m, num_columns=n) to print more rows and columns.\n",
       "</div>"
      ],
      "text/plain": [
       "Columns:\n",
       "\tTitle\tstr\n",
       "\tcategory_id\tint\n",
       "\n",
       "Rows: 619240\n",
       "\n",
       "Data:\n",
       "+-------------------------------+-------------+\n",
       "|             Title             | category_id |\n",
       "+-------------------------------+-------------+\n",
       "| HDE Slim Lightweight Auto ... |     367     |\n",
       "| V7 Black Toner Cartridge F... |     625     |\n",
       "| Decalrus - Matte Protectiv... |     250     |\n",
       "| Vantec Thermal Technologie... |     309     |\n",
       "| Fintie Samsung Galaxy Tab ... |      71     |\n",
       "| Canon Powershot / IXUS / E... |     390     |\n",
       "| RML USB Standard Type A 2.... |     390     |\n",
       "| Axiom 10GBASE-ER Xfp Trans... |     530     |\n",
       "| Supermicro X8STE Server Mo... |      68     |\n",
       "| Longruner Card Reader Mini... |     569     |\n",
       "+-------------------------------+-------------+\n",
       "[619240 rows x 2 columns]\n",
       "Note: Only the head of the SFrame is printed.\n",
       "You can use print_rows(num_rows=m, num_columns=n) to print more rows and columns."
      ]
     },
     "execution_count": 174,
     "metadata": {},
     "output_type": "execute_result"
    }
   ],
   "source": [
    "my_test_data.rename({'X1': 'Title', 'X2':'category_id'})"
   ]
  },
  {
   "cell_type": "code",
   "execution_count": 175,
   "metadata": {
    "collapsed": true
   },
   "outputs": [],
   "source": [
    "def removeNumbers(text):\n",
    "    if not text:\n",
    "        return text\n",
    "    outString=[]\n",
    "    for c in text:\n",
    "        if(not c.isdigit()):\n",
    "            outString.append(c)\n",
    "        else:\n",
    "            outString.append(\" \")\n",
    "    return \"\".join(outString)"
   ]
  },
  {
   "cell_type": "code",
   "execution_count": 176,
   "metadata": {
    "collapsed": true
   },
   "outputs": [],
   "source": [
    "import string\n",
    "def removePunctuations(text):\n",
    "    if not text:\n",
    "        return text\n",
    "    exclude = set(string.punctuation)\n",
    "    outString=[]\n",
    "    for c in text:\n",
    "        if(c not in exclude):\n",
    "            outString.append(c)\n",
    "        else:\n",
    "            outString.append(\" \")\n",
    "    return \"\".join(outString)"
   ]
  },
  {
   "cell_type": "code",
   "execution_count": 177,
   "metadata": {
    "collapsed": true
   },
   "outputs": [],
   "source": [
    "def removeSingleLetters(text):\n",
    "    outString=[]\n",
    "    for c in text.split():\n",
    "        if(len(c)>=2):\n",
    "            outString.append(c)\n",
    "        else:\n",
    "            outString.append(\" \")\n",
    "    return \" \".join(outString)"
   ]
  },
  {
   "cell_type": "code",
   "execution_count": 178,
   "metadata": {
    "collapsed": true
   },
   "outputs": [],
   "source": [
    "from nltk.corpus import stopwords\n",
    "stop = stopwords.words('english')\n",
    "def removeStopWords(text):\n",
    "    outString=[]\n",
    "    for c in text.split():\n",
    "        if(c not in stop):\n",
    "            outString.append(c)\n",
    "        else:\n",
    "            outString.append(\" \")\n",
    "    return \" \".join(outString)"
   ]
  },
  {
   "cell_type": "code",
   "execution_count": 179,
   "metadata": {
    "collapsed": true
   },
   "outputs": [],
   "source": [
    "def final_clean(txt):\n",
    "    txt = removePunctuations(txt)\n",
    "    txt = removeNumbers(txt)\n",
    "    txt = removeStopWords(txt)\n",
    "    txt = removeSingleLetters(txt)\n",
    "    txt = txt.lower()\n",
    "    return ' '.join(txt.split())"
   ]
  },
  {
   "cell_type": "code",
   "execution_count": 180,
   "metadata": {
    "collapsed": false
   },
   "outputs": [
    {
     "name": "stderr",
     "output_type": "stream",
     "text": [
      "/Users/sharmilis/anaconda2/envs/dato-env/lib/python2.7/site-packages/ipykernel/__main__.py:6: UnicodeWarning: Unicode equal comparison failed to convert both arguments to Unicode - interpreting them as being unequal\n"
     ]
    }
   ],
   "source": [
    "my_test_data['cleaned_title']=my_test_data['Title'].apply(final_clean)"
   ]
  },
  {
   "cell_type": "code",
   "execution_count": 181,
   "metadata": {
    "collapsed": false
   },
   "outputs": [
    {
     "name": "stdout",
     "output_type": "stream",
     "text": [
      "Start:0End:10000\n",
      "10000\n",
      "Start:10000End:20000\n",
      "10000\n",
      "Start:20000End:30000\n",
      "10000\n",
      "Start:30000End:40000\n",
      "10000\n",
      "Start:40000End:50000\n",
      "10000\n",
      "Start:50000End:60000\n",
      "10000\n",
      "Start:60000End:70000\n",
      "10000\n",
      "Start:70000End:80000\n",
      "10000\n",
      "Start:80000End:90000\n",
      "10000\n",
      "Start:90000End:100000\n",
      "10000\n",
      "Start:100000End:110000\n",
      "10000\n",
      "Start:110000End:120000\n",
      "10000\n",
      "Start:120000End:130000\n",
      "10000\n",
      "Start:130000End:140000\n",
      "10000\n",
      "Start:140000End:150000\n",
      "10000\n",
      "Start:150000End:160000\n",
      "10000\n",
      "Start:160000End:170000\n",
      "10000\n",
      "Start:170000End:180000\n",
      "10000\n",
      "Start:180000End:190000\n",
      "10000\n",
      "Start:190000End:200000\n",
      "10000\n",
      "Start:200000End:210000\n",
      "10000\n",
      "Start:210000End:220000\n",
      "10000\n",
      "Start:220000End:230000\n",
      "10000\n",
      "Start:230000End:240000\n",
      "10000\n",
      "Start:240000End:250000\n",
      "10000\n",
      "Start:250000End:260000\n",
      "10000\n",
      "Start:260000End:270000\n",
      "10000\n",
      "Start:270000End:280000\n",
      "10000\n",
      "Start:280000End:290000\n",
      "10000\n",
      "Start:290000End:300000\n",
      "10000\n",
      "Start:300000End:310000\n",
      "10000\n",
      "Start:310000End:320000\n",
      "10000\n",
      "Start:320000End:330000\n",
      "10000\n",
      "Start:330000End:340000\n",
      "10000\n",
      "Start:340000End:350000\n",
      "10000\n",
      "Start:350000End:360000\n",
      "10000\n",
      "Start:360000End:370000\n",
      "10000\n",
      "Start:370000End:380000\n",
      "10000\n",
      "Start:380000End:390000\n",
      "10000\n",
      "Start:390000End:400000\n",
      "10000\n",
      "Start:400000End:410000\n",
      "10000\n",
      "Start:410000End:420000\n",
      "10000\n",
      "Start:420000End:430000\n",
      "10000\n",
      "Start:430000End:440000\n",
      "10000\n",
      "Start:440000End:450000\n",
      "10000\n",
      "Start:450000End:460000\n",
      "10000\n",
      "Start:460000End:470000\n",
      "10000\n",
      "Start:470000End:480000\n",
      "10000\n",
      "Start:480000End:490000\n",
      "10000\n",
      "Start:490000End:500000\n",
      "10000\n",
      "Start:500000End:510000\n",
      "10000\n",
      "Start:510000End:520000\n",
      "10000\n",
      "Start:520000End:530000\n",
      "10000\n",
      "Start:530000End:540000\n",
      "10000\n",
      "Start:540000End:550000\n",
      "10000\n",
      "Start:550000End:560000\n",
      "10000\n",
      "Start:560000End:570000\n",
      "10000\n",
      "Start:570000End:580000\n",
      "10000\n",
      "Start:580000End:590000\n",
      "10000\n",
      "Start:590000End:600000\n",
      "10000\n",
      "Start:600000End:610000\n",
      "10000\n",
      "Start:610000End:620000\n",
      "9240\n"
     ]
    }
   ],
   "source": [
    "outfile = open(\"predictions4.txt\", \"w+\")\n",
    "for i in range(62):\n",
    "    start = (10000*i);\n",
    "    end = start+10000\n",
    "    print 'Start:'+str(start)+\"End:\"+str(end)\n",
    "    testData = (my_test_data[start:end]).to_dataframe()\n",
    "    \n",
    "    predictions = testData['cleaned_title'].apply(biasForLeadBrands)\n",
    "    for item in predictions:\n",
    "        print>>outfile, str(item)\n",
    "    print len(predictions)\n",
    "outfile.close()"
   ]
  },
  {
   "cell_type": "code",
   "execution_count": 182,
   "metadata": {
    "collapsed": false
   },
   "outputs": [
    {
     "name": "stdout",
     "output_type": "stream",
     "text": [
      "PROGRESS: Finished parsing file /Users/sharmilis/Desktop/IndixHackathon/predictions3_final.txt\n",
      "PROGRESS: Parsing completed. Parsed 619240 lines in 0.181798 secs.\n"
     ]
    }
   ],
   "source": [
    "last_submission = gl.SFrame.read_csv(\"predictions3_final.txt\",header=False,delimiter='\\n',column_type_hints=[int])"
   ]
  },
  {
   "cell_type": "code",
   "execution_count": 183,
   "metadata": {
    "collapsed": false
   },
   "outputs": [
    {
     "name": "stdout",
     "output_type": "stream",
     "text": [
      "PROGRESS: Finished parsing file /Users/sharmilis/Desktop/IndixHackathon/predictions4.txt\n",
      "PROGRESS: Parsing completed. Parsed 619240 lines in 0.140234 secs.\n"
     ]
    }
   ],
   "source": [
    "current_predictions = gl.SFrame.read_csv(\"predictions4.txt\",header=False,delimiter='\\n',column_type_hints=[int])"
   ]
  },
  {
   "cell_type": "code",
   "execution_count": 184,
   "metadata": {
    "collapsed": true
   },
   "outputs": [],
   "source": [
    "sf = gl.SFrame({'last':last_submission['X1'],'current':current_predictions['X1']})"
   ]
  },
  {
   "cell_type": "code",
   "execution_count": 185,
   "metadata": {
    "collapsed": true
   },
   "outputs": [],
   "source": [
    "def finalConclusion(x):\n",
    "    if(x['current'] == 0):\n",
    "        return x['last']\n",
    "    return x['current']"
   ]
  },
  {
   "cell_type": "code",
   "execution_count": 186,
   "metadata": {
    "collapsed": true
   },
   "outputs": [],
   "source": [
    "predictions = sf.apply(finalConclusion)"
   ]
  },
  {
   "cell_type": "code",
   "execution_count": 187,
   "metadata": {
    "collapsed": true
   },
   "outputs": [],
   "source": [
    "outfile = open(\"predictions4_final.txt\", \"w+\")\n",
    "for item in predictions:\n",
    "    print>>outfile, item\n",
    "outfile.close()"
   ]
  },
  {
   "cell_type": "code",
   "execution_count": 188,
   "metadata": {
    "collapsed": false
   },
   "outputs": [
    {
     "data": {
      "text/plain": [
       "166264"
      ]
     },
     "execution_count": 188,
     "metadata": {},
     "output_type": "execute_result"
    }
   ],
   "source": [
    "len(current_predictions[current_predictions['X1'] !=0])"
   ]
  },
  {
   "cell_type": "code",
   "execution_count": null,
   "metadata": {
    "collapsed": true
   },
   "outputs": [],
   "source": []
  }
 ],
 "metadata": {
  "kernelspec": {
   "display_name": "Python 2",
   "language": "python",
   "name": "python2"
  },
  "language_info": {
   "codemirror_mode": {
    "name": "ipython",
    "version": 2
   },
   "file_extension": ".py",
   "mimetype": "text/x-python",
   "name": "python",
   "nbconvert_exporter": "python",
   "pygments_lexer": "ipython2",
   "version": "2.7.11"
  }
 },
 "nbformat": 4,
 "nbformat_minor": 0
}
