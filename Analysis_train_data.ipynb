{
 "cells": [
  {
   "cell_type": "code",
   "execution_count": 1,
   "metadata": {
    "collapsed": false
   },
   "outputs": [
    {
     "name": "stderr",
     "output_type": "stream",
     "text": [
      "A newer version of GraphLab Create (v1.8.5) is available! Your current version is v1.8.1.\n",
      "\n",
      "You can use pip to upgrade the graphlab-create package. For more information see https://dato.com/products/create/upgrade.\n"
     ]
    }
   ],
   "source": [
    "import graphlab as gl"
   ]
  },
  {
   "cell_type": "code",
   "execution_count": 2,
   "metadata": {
    "collapsed": false
   },
   "outputs": [
    {
     "name": "stderr",
     "output_type": "stream",
     "text": [
      "[INFO] This non-commercial license of GraphLab Create is assigned to tvinithkumar2@gmail.com and will expire on November 12, 2016. For commercial licensing options, visit https://dato.com/buy/.\n",
      "\n",
      "[INFO] Start server at: ipc:///tmp/graphlab_server-72652 - Server binary: /Users/sharmilis/anaconda2/envs/dato-env/lib/python2.7/site-packages/graphlab/unity_server - Server log: /tmp/graphlab_server_1459613629.log\n",
      "[INFO] GraphLab Server Version: 1.8.1\n"
     ]
    },
    {
     "name": "stdout",
     "output_type": "stream",
     "text": [
      "PROGRESS: Unable to parse line \"title\tbid\tcid\"\n",
      "PROGRESS: Unable to parse line \"\" 2 Pack Panasonic Compatible KX-FA83 KXFA83 Laser Toner Cartridge, 2,500 Pa\tUnknown\tcomputers & accessories > cables & accessories > printer ink & toner > laser printer toner\"\n",
      "PROGRESS: Unable to parse line \"\"Brocade VDX 6720 - switch - 16 ports - rack-mountable\tBrocade Communication Systems\tcomputers & accessories > networking products > switches\"\n",
      "PROGRESS: Unable to parse line \"\"This hub is built strong and ideal for industrial environments. With the StarTech.com ST4200USBM 4-port hub you can wall-mount or install onto a DIN rail for convenient access to the ports. This four port industrial hub can be bus powered or self powered ...\"\n",
      "PROGRESS: Read 519400 lines. Lines per second: 185246\n",
      "PROGRESS: 4 lines failed to parse correctly\n",
      "PROGRESS: Finished parsing file /Users/sharmilis/Desktop/IndixHackathon/classification_train.tsv\n",
      "PROGRESS: Parsing completed. Parsed 999996 lines in 3.47034 secs.\n"
     ]
    }
   ],
   "source": [
    "my_data = gl.SFrame.read_csv(\"classification_train.tsv\",header=False,delimiter='\\t',column_type_hints=[str,int,int])"
   ]
  },
  {
   "cell_type": "code",
   "execution_count": 3,
   "metadata": {
    "collapsed": false
   },
   "outputs": [
    {
     "data": {
      "text/html": [
       "<div style=\"max-height:1000px;max-width:1500px;overflow:auto;\"><table frame=\"box\" rules=\"cols\">\n",
       "    <tr>\n",
       "        <th style=\"padding-left: 1em; padding-right: 1em; text-align: center\">Title</th>\n",
       "        <th style=\"padding-left: 1em; padding-right: 1em; text-align: center\">brand_id</th>\n",
       "        <th style=\"padding-left: 1em; padding-right: 1em; text-align: center\">category_id</th>\n",
       "    </tr>\n",
       "    <tr>\n",
       "        <td style=\"padding-left: 1em; padding-right: 1em; text-align: center; vertical-align: top\">120GB Hard Disk Drive<br>with 3 Years Warranty ...</td>\n",
       "        <td style=\"padding-left: 1em; padding-right: 1em; text-align: center; vertical-align: top\">3950</td>\n",
       "        <td style=\"padding-left: 1em; padding-right: 1em; text-align: center; vertical-align: top\">8</td>\n",
       "    </tr>\n",
       "    <tr>\n",
       "        <td style=\"padding-left: 1em; padding-right: 1em; text-align: center; vertical-align: top\">TOSHIBA SATELLITE<br>L305-S5919 LAPTOP LCD ...</td>\n",
       "        <td style=\"padding-left: 1em; padding-right: 1em; text-align: center; vertical-align: top\">35099</td>\n",
       "        <td style=\"padding-left: 1em; padding-right: 1em; text-align: center; vertical-align: top\">324</td>\n",
       "    </tr>\n",
       "    <tr>\n",
       "        <td style=\"padding-left: 1em; padding-right: 1em; text-align: center; vertical-align: top\">Hobby-Ace Pixhawk PX4 RGB<br>External LED Indicator ...</td>\n",
       "        <td style=\"padding-left: 1em; padding-right: 1em; text-align: center; vertical-align: top\">21822</td>\n",
       "        <td style=\"padding-left: 1em; padding-right: 1em; text-align: center; vertical-align: top\">510</td>\n",
       "    </tr>\n",
       "    <tr>\n",
       "        <td style=\"padding-left: 1em; padding-right: 1em; text-align: center; vertical-align: top\">Pelicans mousepad</td>\n",
       "        <td style=\"padding-left: 1em; padding-right: 1em; text-align: center; vertical-align: top\">44629</td>\n",
       "        <td style=\"padding-left: 1em; padding-right: 1em; text-align: center; vertical-align: top\">260</td>\n",
       "    </tr>\n",
       "    <tr>\n",
       "        <td style=\"padding-left: 1em; padding-right: 1em; text-align: center; vertical-align: top\">P4648-60029 Hewlett-<br>Packard Tc2100 System ...</td>\n",
       "        <td style=\"padding-left: 1em; padding-right: 1em; text-align: center; vertical-align: top\">42835</td>\n",
       "        <td style=\"padding-left: 1em; padding-right: 1em; text-align: center; vertical-align: top\">68</td>\n",
       "    </tr>\n",
       "    <tr>\n",
       "        <td style=\"padding-left: 1em; padding-right: 1em; text-align: center; vertical-align: top\">Ectaco EI900 SD Card<br>English - Italian ...</td>\n",
       "        <td style=\"padding-left: 1em; padding-right: 1em; text-align: center; vertical-align: top\">249</td>\n",
       "        <td style=\"padding-left: 1em; padding-right: 1em; text-align: center; vertical-align: top\">6</td>\n",
       "    </tr>\n",
       "    <tr>\n",
       "        <td style=\"padding-left: 1em; padding-right: 1em; text-align: center; vertical-align: top\">Zippered Pocket Black<br>School Laptop Tablet  ...</td>\n",
       "        <td style=\"padding-left: 1em; padding-right: 1em; text-align: center; vertical-align: top\">4342</td>\n",
       "        <td style=\"padding-left: 1em; padding-right: 1em; text-align: center; vertical-align: top\">172</td>\n",
       "    </tr>\n",
       "    <tr>\n",
       "        <td style=\"padding-left: 1em; padding-right: 1em; text-align: center; vertical-align: top\">GP Mtr, 3 Ph, ODP, 3 HP,<br>1800 rpm, 182TC ...</td>\n",
       "        <td style=\"padding-left: 1em; padding-right: 1em; text-align: center; vertical-align: top\">42618</td>\n",
       "        <td style=\"padding-left: 1em; padding-right: 1em; text-align: center; vertical-align: top\">616</td>\n",
       "    </tr>\n",
       "    <tr>\n",
       "        <td style=\"padding-left: 1em; padding-right: 1em; text-align: center; vertical-align: top\">DIGI CM 16 PORT RJ-45<br>CONSOLE SERVER - Model#: ...</td>\n",
       "        <td style=\"padding-left: 1em; padding-right: 1em; text-align: center; vertical-align: top\">37012</td>\n",
       "        <td style=\"padding-left: 1em; padding-right: 1em; text-align: center; vertical-align: top\">248</td>\n",
       "    </tr>\n",
       "    <tr>\n",
       "        <td style=\"padding-left: 1em; padding-right: 1em; text-align: center; vertical-align: top\">Lenovo Ibm Thinkpad<br>R52-1859 Laptop AC ...</td>\n",
       "        <td style=\"padding-left: 1em; padding-right: 1em; text-align: center; vertical-align: top\">2024</td>\n",
       "        <td style=\"padding-left: 1em; padding-right: 1em; text-align: center; vertical-align: top\">313</td>\n",
       "    </tr>\n",
       "</table>\n",
       "[999996 rows x 3 columns]<br/>Note: Only the head of the SFrame is printed.<br/>You can use print_rows(num_rows=m, num_columns=n) to print more rows and columns.\n",
       "</div>"
      ],
      "text/plain": [
       "Columns:\n",
       "\tTitle\tstr\n",
       "\tbrand_id\tint\n",
       "\tcategory_id\tint\n",
       "\n",
       "Rows: 999996\n",
       "\n",
       "Data:\n",
       "+-------------------------------+----------+-------------+\n",
       "|             Title             | brand_id | category_id |\n",
       "+-------------------------------+----------+-------------+\n",
       "| 120GB Hard Disk Drive with... |   3950   |      8      |\n",
       "| TOSHIBA SATELLITE L305-S59... |  35099   |     324     |\n",
       "| Hobby-Ace Pixhawk PX4 RGB ... |  21822   |     510     |\n",
       "|       Pelicans mousepad       |  44629   |     260     |\n",
       "| P4648-60029 Hewlett-Packar... |  42835   |      68     |\n",
       "| Ectaco EI900 SD Card Engli... |   249    |      6      |\n",
       "| Zippered Pocket Black Scho... |   4342   |     172     |\n",
       "| GP Mtr, 3 Ph, ODP, 3 HP, 1... |  42618   |     616     |\n",
       "| DIGI CM 16 PORT RJ-45 CONS... |  37012   |     248     |\n",
       "| Lenovo Ibm Thinkpad R52-18... |   2024   |     313     |\n",
       "+-------------------------------+----------+-------------+\n",
       "[999996 rows x 3 columns]\n",
       "Note: Only the head of the SFrame is printed.\n",
       "You can use print_rows(num_rows=m, num_columns=n) to print more rows and columns."
      ]
     },
     "execution_count": 3,
     "metadata": {},
     "output_type": "execute_result"
    }
   ],
   "source": [
    "my_data.rename({'X1': 'Title', 'X2':'brand_id','X3':'category_id'})"
   ]
  },
  {
   "cell_type": "code",
   "execution_count": 5,
   "metadata": {
    "collapsed": false
   },
   "outputs": [],
   "source": [
    "brand_count = my_data.groupby(key_columns='brand_id',operations={'count': gl.aggregate.COUNT()})"
   ]
  },
  {
   "cell_type": "code",
   "execution_count": 8,
   "metadata": {
    "collapsed": false
   },
   "outputs": [
    {
     "data": {
      "text/html": [
       "<div style=\"max-height:1000px;max-width:1500px;overflow:auto;\"><table frame=\"box\" rules=\"cols\">\n",
       "    <tr>\n",
       "        <th style=\"padding-left: 1em; padding-right: 1em; text-align: center\">brand_id</th>\n",
       "        <th style=\"padding-left: 1em; padding-right: 1em; text-align: center\">count</th>\n",
       "    </tr>\n",
       "    <tr>\n",
       "        <td style=\"padding-left: 1em; padding-right: 1em; text-align: center; vertical-align: top\">42835</td>\n",
       "        <td style=\"padding-left: 1em; padding-right: 1em; text-align: center; vertical-align: top\">41745</td>\n",
       "    </tr>\n",
       "    <tr>\n",
       "        <td style=\"padding-left: 1em; padding-right: 1em; text-align: center; vertical-align: top\">42383</td>\n",
       "        <td style=\"padding-left: 1em; padding-right: 1em; text-align: center; vertical-align: top\">22866</td>\n",
       "    </tr>\n",
       "    <tr>\n",
       "        <td style=\"padding-left: 1em; padding-right: 1em; text-align: center; vertical-align: top\">6584</td>\n",
       "        <td style=\"padding-left: 1em; padding-right: 1em; text-align: center; vertical-align: top\">19313</td>\n",
       "    </tr>\n",
       "    <tr>\n",
       "        <td style=\"padding-left: 1em; padding-right: 1em; text-align: center; vertical-align: top\">30503</td>\n",
       "        <td style=\"padding-left: 1em; padding-right: 1em; text-align: center; vertical-align: top\">14337</td>\n",
       "    </tr>\n",
       "    <tr>\n",
       "        <td style=\"padding-left: 1em; padding-right: 1em; text-align: center; vertical-align: top\">11580</td>\n",
       "        <td style=\"padding-left: 1em; padding-right: 1em; text-align: center; vertical-align: top\">11946</td>\n",
       "    </tr>\n",
       "    <tr>\n",
       "        <td style=\"padding-left: 1em; padding-right: 1em; text-align: center; vertical-align: top\">26992</td>\n",
       "        <td style=\"padding-left: 1em; padding-right: 1em; text-align: center; vertical-align: top\">11119</td>\n",
       "    </tr>\n",
       "    <tr>\n",
       "        <td style=\"padding-left: 1em; padding-right: 1em; text-align: center; vertical-align: top\">22765</td>\n",
       "        <td style=\"padding-left: 1em; padding-right: 1em; text-align: center; vertical-align: top\">8970</td>\n",
       "    </tr>\n",
       "    <tr>\n",
       "        <td style=\"padding-left: 1em; padding-right: 1em; text-align: center; vertical-align: top\">19709</td>\n",
       "        <td style=\"padding-left: 1em; padding-right: 1em; text-align: center; vertical-align: top\">8509</td>\n",
       "    </tr>\n",
       "    <tr>\n",
       "        <td style=\"padding-left: 1em; padding-right: 1em; text-align: center; vertical-align: top\">36274</td>\n",
       "        <td style=\"padding-left: 1em; padding-right: 1em; text-align: center; vertical-align: top\">8313</td>\n",
       "    </tr>\n",
       "    <tr>\n",
       "        <td style=\"padding-left: 1em; padding-right: 1em; text-align: center; vertical-align: top\">11544</td>\n",
       "        <td style=\"padding-left: 1em; padding-right: 1em; text-align: center; vertical-align: top\">8145</td>\n",
       "    </tr>\n",
       "</table>\n",
       "[35702 rows x 2 columns]<br/>Note: Only the head of the SFrame is printed.<br/>You can use print_rows(num_rows=m, num_columns=n) to print more rows and columns.\n",
       "</div>"
      ],
      "text/plain": [
       "Columns:\n",
       "\tbrand_id\tint\n",
       "\tcount\tint\n",
       "\n",
       "Rows: 35702\n",
       "\n",
       "Data:\n",
       "+----------+-------+\n",
       "| brand_id | count |\n",
       "+----------+-------+\n",
       "|  42835   | 41745 |\n",
       "|  42383   | 22866 |\n",
       "|   6584   | 19313 |\n",
       "|  30503   | 14337 |\n",
       "|  11580   | 11946 |\n",
       "|  26992   | 11119 |\n",
       "|  22765   |  8970 |\n",
       "|  19709   |  8509 |\n",
       "|  36274   |  8313 |\n",
       "|  11544   |  8145 |\n",
       "+----------+-------+\n",
       "[35702 rows x 2 columns]\n",
       "Note: Only the head of the SFrame is printed.\n",
       "You can use print_rows(num_rows=m, num_columns=n) to print more rows and columns."
      ]
     },
     "execution_count": 8,
     "metadata": {},
     "output_type": "execute_result"
    }
   ],
   "source": [
    "brand_count.sort('count',ascending=False)"
   ]
  },
  {
   "cell_type": "code",
   "execution_count": 9,
   "metadata": {
    "collapsed": false
   },
   "outputs": [
    {
     "name": "stdout",
     "output_type": "stream",
     "text": [
      "Canvas is accessible via web browser at the URL: http://localhost:58578/index.html\n",
      "Opening Canvas in default web browser.\n"
     ]
    }
   ],
   "source": [
    "brand_count.show()"
   ]
  },
  {
   "cell_type": "code",
   "execution_count": 16,
   "metadata": {
    "collapsed": false
   },
   "outputs": [
    {
     "data": {
      "text/plain": [
       "161"
      ]
     },
     "execution_count": 16,
     "metadata": {},
     "output_type": "execute_result"
    }
   ],
   "source": [
    "len(brand_count[brand_count['count']>1000])"
   ]
  },
  {
   "cell_type": "code",
   "execution_count": 26,
   "metadata": {
    "collapsed": false
   },
   "outputs": [],
   "source": [
    "analysis_data = my_data.groupby(key_columns=['brand_id','category_id'],operations={'count': gl.aggregate.COUNT()})"
   ]
  },
  {
   "cell_type": "code",
   "execution_count": 29,
   "metadata": {
    "collapsed": false
   },
   "outputs": [],
   "source": [
    "no_of_cat_per_brand = analysis_data.groupby(key_columns=['brand_id'],operations={'count': gl.aggregate.COUNT()})"
   ]
  },
  {
   "cell_type": "code",
   "execution_count": 30,
   "metadata": {
    "collapsed": false
   },
   "outputs": [
    {
     "data": {
      "text/html": [
       "<div style=\"max-height:1000px;max-width:1500px;overflow:auto;\"><table frame=\"box\" rules=\"cols\">\n",
       "    <tr>\n",
       "        <th style=\"padding-left: 1em; padding-right: 1em; text-align: center\">brand_id</th>\n",
       "        <th style=\"padding-left: 1em; padding-right: 1em; text-align: center\">count</th>\n",
       "    </tr>\n",
       "    <tr>\n",
       "        <td style=\"padding-left: 1em; padding-right: 1em; text-align: center; vertical-align: top\">8668</td>\n",
       "        <td style=\"padding-left: 1em; padding-right: 1em; text-align: center; vertical-align: top\">1</td>\n",
       "    </tr>\n",
       "    <tr>\n",
       "        <td style=\"padding-left: 1em; padding-right: 1em; text-align: center; vertical-align: top\">25263</td>\n",
       "        <td style=\"padding-left: 1em; padding-right: 1em; text-align: center; vertical-align: top\">1</td>\n",
       "    </tr>\n",
       "    <tr>\n",
       "        <td style=\"padding-left: 1em; padding-right: 1em; text-align: center; vertical-align: top\">30621</td>\n",
       "        <td style=\"padding-left: 1em; padding-right: 1em; text-align: center; vertical-align: top\">1</td>\n",
       "    </tr>\n",
       "    <tr>\n",
       "        <td style=\"padding-left: 1em; padding-right: 1em; text-align: center; vertical-align: top\">27112</td>\n",
       "        <td style=\"padding-left: 1em; padding-right: 1em; text-align: center; vertical-align: top\">1</td>\n",
       "    </tr>\n",
       "    <tr>\n",
       "        <td style=\"padding-left: 1em; padding-right: 1em; text-align: center; vertical-align: top\">5288</td>\n",
       "        <td style=\"padding-left: 1em; padding-right: 1em; text-align: center; vertical-align: top\">1</td>\n",
       "    </tr>\n",
       "    <tr>\n",
       "        <td style=\"padding-left: 1em; padding-right: 1em; text-align: center; vertical-align: top\">16436</td>\n",
       "        <td style=\"padding-left: 1em; padding-right: 1em; text-align: center; vertical-align: top\">1</td>\n",
       "    </tr>\n",
       "    <tr>\n",
       "        <td style=\"padding-left: 1em; padding-right: 1em; text-align: center; vertical-align: top\">26561</td>\n",
       "        <td style=\"padding-left: 1em; padding-right: 1em; text-align: center; vertical-align: top\">1</td>\n",
       "    </tr>\n",
       "    <tr>\n",
       "        <td style=\"padding-left: 1em; padding-right: 1em; text-align: center; vertical-align: top\">3143</td>\n",
       "        <td style=\"padding-left: 1em; padding-right: 1em; text-align: center; vertical-align: top\">1</td>\n",
       "    </tr>\n",
       "    <tr>\n",
       "        <td style=\"padding-left: 1em; padding-right: 1em; text-align: center; vertical-align: top\">30727</td>\n",
       "        <td style=\"padding-left: 1em; padding-right: 1em; text-align: center; vertical-align: top\">1</td>\n",
       "    </tr>\n",
       "    <tr>\n",
       "        <td style=\"padding-left: 1em; padding-right: 1em; text-align: center; vertical-align: top\">6769</td>\n",
       "        <td style=\"padding-left: 1em; padding-right: 1em; text-align: center; vertical-align: top\">1</td>\n",
       "    </tr>\n",
       "</table>\n",
       "[35702 rows x 2 columns]<br/>Note: Only the head of the SFrame is printed.<br/>You can use print_rows(num_rows=m, num_columns=n) to print more rows and columns.\n",
       "</div>"
      ],
      "text/plain": [
       "Columns:\n",
       "\tbrand_id\tint\n",
       "\tcount\tint\n",
       "\n",
       "Rows: 35702\n",
       "\n",
       "Data:\n",
       "+----------+-------+\n",
       "| brand_id | count |\n",
       "+----------+-------+\n",
       "|   8668   |   1   |\n",
       "|  25263   |   1   |\n",
       "|  30621   |   1   |\n",
       "|  27112   |   1   |\n",
       "|   5288   |   1   |\n",
       "|  16436   |   1   |\n",
       "|  26561   |   1   |\n",
       "|   3143   |   1   |\n",
       "|  30727   |   1   |\n",
       "|   6769   |   1   |\n",
       "+----------+-------+\n",
       "[35702 rows x 2 columns]\n",
       "Note: Only the head of the SFrame is printed.\n",
       "You can use print_rows(num_rows=m, num_columns=n) to print more rows and columns."
      ]
     },
     "execution_count": 30,
     "metadata": {},
     "output_type": "execute_result"
    }
   ],
   "source": [
    "no_of_cat_per_brand.sort('count')"
   ]
  },
  {
   "cell_type": "code",
   "execution_count": 31,
   "metadata": {
    "collapsed": false
   },
   "outputs": [
    {
     "name": "stdout",
     "output_type": "stream",
     "text": [
      "Canvas is accessible via web browser at the URL: http://localhost:58578/index.html\n",
      "Opening Canvas in default web browser.\n"
     ]
    }
   ],
   "source": [
    "no_of_cat_per_brand.show()"
   ]
  },
  {
   "cell_type": "code",
   "execution_count": 34,
   "metadata": {
    "collapsed": false
   },
   "outputs": [
    {
     "data": {
      "text/plain": [
       "23156"
      ]
     },
     "execution_count": 34,
     "metadata": {},
     "output_type": "execute_result"
    }
   ],
   "source": [
    "len(no_of_cat_per_brand[no_of_cat_per_brand['count']==1])"
   ]
  },
  {
   "cell_type": "code",
   "execution_count": 35,
   "metadata": {
    "collapsed": false
   },
   "outputs": [
    {
     "data": {
      "text/plain": [
       "12546"
      ]
     },
     "execution_count": 35,
     "metadata": {},
     "output_type": "execute_result"
    }
   ],
   "source": [
    "35702-23156"
   ]
  },
  {
   "cell_type": "code",
   "execution_count": 36,
   "metadata": {
    "collapsed": true
   },
   "outputs": [],
   "source": [
    "analysis_data = my_data.groupby(key_columns=['category_id','brand_id'],operations={'count': gl.aggregate.COUNT()})"
   ]
  },
  {
   "cell_type": "code",
   "execution_count": 40,
   "metadata": {
    "collapsed": false
   },
   "outputs": [
    {
     "data": {
      "text/html": [
       "<div style=\"max-height:1000px;max-width:1500px;overflow:auto;\"><table frame=\"box\" rules=\"cols\">\n",
       "    <tr>\n",
       "        <th style=\"padding-left: 1em; padding-right: 1em; text-align: center\">brand_id</th>\n",
       "        <th style=\"padding-left: 1em; padding-right: 1em; text-align: center\">category_id</th>\n",
       "        <th style=\"padding-left: 1em; padding-right: 1em; text-align: center\">count</th>\n",
       "    </tr>\n",
       "    <tr>\n",
       "        <td style=\"padding-left: 1em; padding-right: 1em; text-align: center; vertical-align: top\">32261</td>\n",
       "        <td style=\"padding-left: 1em; padding-right: 1em; text-align: center; vertical-align: top\">704</td>\n",
       "        <td style=\"padding-left: 1em; padding-right: 1em; text-align: center; vertical-align: top\">13</td>\n",
       "    </tr>\n",
       "    <tr>\n",
       "        <td style=\"padding-left: 1em; padding-right: 1em; text-align: center; vertical-align: top\">28503</td>\n",
       "        <td style=\"padding-left: 1em; padding-right: 1em; text-align: center; vertical-align: top\">704</td>\n",
       "        <td style=\"padding-left: 1em; padding-right: 1em; text-align: center; vertical-align: top\">1</td>\n",
       "    </tr>\n",
       "    <tr>\n",
       "        <td style=\"padding-left: 1em; padding-right: 1em; text-align: center; vertical-align: top\">8512</td>\n",
       "        <td style=\"padding-left: 1em; padding-right: 1em; text-align: center; vertical-align: top\">704</td>\n",
       "        <td style=\"padding-left: 1em; padding-right: 1em; text-align: center; vertical-align: top\">1</td>\n",
       "    </tr>\n",
       "    <tr>\n",
       "        <td style=\"padding-left: 1em; padding-right: 1em; text-align: center; vertical-align: top\">43043</td>\n",
       "        <td style=\"padding-left: 1em; padding-right: 1em; text-align: center; vertical-align: top\">704</td>\n",
       "        <td style=\"padding-left: 1em; padding-right: 1em; text-align: center; vertical-align: top\">6</td>\n",
       "    </tr>\n",
       "    <tr>\n",
       "        <td style=\"padding-left: 1em; padding-right: 1em; text-align: center; vertical-align: top\">43407</td>\n",
       "        <td style=\"padding-left: 1em; padding-right: 1em; text-align: center; vertical-align: top\">704</td>\n",
       "        <td style=\"padding-left: 1em; padding-right: 1em; text-align: center; vertical-align: top\">1</td>\n",
       "    </tr>\n",
       "    <tr>\n",
       "        <td style=\"padding-left: 1em; padding-right: 1em; text-align: center; vertical-align: top\">26599</td>\n",
       "        <td style=\"padding-left: 1em; padding-right: 1em; text-align: center; vertical-align: top\">704</td>\n",
       "        <td style=\"padding-left: 1em; padding-right: 1em; text-align: center; vertical-align: top\">4</td>\n",
       "    </tr>\n",
       "    <tr>\n",
       "        <td style=\"padding-left: 1em; padding-right: 1em; text-align: center; vertical-align: top\">31224</td>\n",
       "        <td style=\"padding-left: 1em; padding-right: 1em; text-align: center; vertical-align: top\">704</td>\n",
       "        <td style=\"padding-left: 1em; padding-right: 1em; text-align: center; vertical-align: top\">116</td>\n",
       "    </tr>\n",
       "    <tr>\n",
       "        <td style=\"padding-left: 1em; padding-right: 1em; text-align: center; vertical-align: top\">44151</td>\n",
       "        <td style=\"padding-left: 1em; padding-right: 1em; text-align: center; vertical-align: top\">704</td>\n",
       "        <td style=\"padding-left: 1em; padding-right: 1em; text-align: center; vertical-align: top\">1</td>\n",
       "    </tr>\n",
       "    <tr>\n",
       "        <td style=\"padding-left: 1em; padding-right: 1em; text-align: center; vertical-align: top\">14768</td>\n",
       "        <td style=\"padding-left: 1em; padding-right: 1em; text-align: center; vertical-align: top\">704</td>\n",
       "        <td style=\"padding-left: 1em; padding-right: 1em; text-align: center; vertical-align: top\">1</td>\n",
       "    </tr>\n",
       "    <tr>\n",
       "        <td style=\"padding-left: 1em; padding-right: 1em; text-align: center; vertical-align: top\">19709</td>\n",
       "        <td style=\"padding-left: 1em; padding-right: 1em; text-align: center; vertical-align: top\">704</td>\n",
       "        <td style=\"padding-left: 1em; padding-right: 1em; text-align: center; vertical-align: top\">10</td>\n",
       "    </tr>\n",
       "</table>\n",
       "[95912 rows x 3 columns]<br/>Note: Only the head of the SFrame is printed.<br/>You can use print_rows(num_rows=m, num_columns=n) to print more rows and columns.\n",
       "</div>"
      ],
      "text/plain": [
       "Columns:\n",
       "\tbrand_id\tint\n",
       "\tcategory_id\tint\n",
       "\tcount\tint\n",
       "\n",
       "Rows: 95912\n",
       "\n",
       "Data:\n",
       "+----------+-------------+-------+\n",
       "| brand_id | category_id | count |\n",
       "+----------+-------------+-------+\n",
       "|  32261   |     704     |   13  |\n",
       "|  28503   |     704     |   1   |\n",
       "|   8512   |     704     |   1   |\n",
       "|  43043   |     704     |   6   |\n",
       "|  43407   |     704     |   1   |\n",
       "|  26599   |     704     |   4   |\n",
       "|  31224   |     704     |  116  |\n",
       "|  44151   |     704     |   1   |\n",
       "|  14768   |     704     |   1   |\n",
       "|  19709   |     704     |   10  |\n",
       "+----------+-------------+-------+\n",
       "[95912 rows x 3 columns]\n",
       "Note: Only the head of the SFrame is printed.\n",
       "You can use print_rows(num_rows=m, num_columns=n) to print more rows and columns."
      ]
     },
     "execution_count": 40,
     "metadata": {},
     "output_type": "execute_result"
    }
   ],
   "source": [
    "analysis_data.sort('category_id',ascending=False)"
   ]
  },
  {
   "cell_type": "code",
   "execution_count": 41,
   "metadata": {
    "collapsed": true
   },
   "outputs": [],
   "source": [
    "no_of_brand_per_cat = analysis_data.groupby(key_columns=['category_id'],operations={'count': gl.aggregate.COUNT()})"
   ]
  },
  {
   "cell_type": "code",
   "execution_count": 44,
   "metadata": {
    "collapsed": false
   },
   "outputs": [
    {
     "data": {
      "text/html": [
       "<div style=\"max-height:1000px;max-width:1500px;overflow:auto;\"><table frame=\"box\" rules=\"cols\">\n",
       "    <tr>\n",
       "        <th style=\"padding-left: 1em; padding-right: 1em; text-align: center\">category_id</th>\n",
       "        <th style=\"padding-left: 1em; padding-right: 1em; text-align: center\">count</th>\n",
       "    </tr>\n",
       "    <tr>\n",
       "        <td style=\"padding-left: 1em; padding-right: 1em; text-align: center; vertical-align: top\">367</td>\n",
       "        <td style=\"padding-left: 1em; padding-right: 1em; text-align: center; vertical-align: top\">3651</td>\n",
       "    </tr>\n",
       "    <tr>\n",
       "        <td style=\"padding-left: 1em; padding-right: 1em; text-align: center; vertical-align: top\">520</td>\n",
       "        <td style=\"padding-left: 1em; padding-right: 1em; text-align: center; vertical-align: top\">2939</td>\n",
       "    </tr>\n",
       "    <tr>\n",
       "        <td style=\"padding-left: 1em; padding-right: 1em; text-align: center; vertical-align: top\">71</td>\n",
       "        <td style=\"padding-left: 1em; padding-right: 1em; text-align: center; vertical-align: top\">2680</td>\n",
       "    </tr>\n",
       "    <tr>\n",
       "        <td style=\"padding-left: 1em; padding-right: 1em; text-align: center; vertical-align: top\">358</td>\n",
       "        <td style=\"padding-left: 1em; padding-right: 1em; text-align: center; vertical-align: top\">2539</td>\n",
       "    </tr>\n",
       "    <tr>\n",
       "        <td style=\"padding-left: 1em; padding-right: 1em; text-align: center; vertical-align: top\">390</td>\n",
       "        <td style=\"padding-left: 1em; padding-right: 1em; text-align: center; vertical-align: top\">2243</td>\n",
       "    </tr>\n",
       "    <tr>\n",
       "        <td style=\"padding-left: 1em; padding-right: 1em; text-align: center; vertical-align: top\">483</td>\n",
       "        <td style=\"padding-left: 1em; padding-right: 1em; text-align: center; vertical-align: top\">2023</td>\n",
       "    </tr>\n",
       "    <tr>\n",
       "        <td style=\"padding-left: 1em; padding-right: 1em; text-align: center; vertical-align: top\">59</td>\n",
       "        <td style=\"padding-left: 1em; padding-right: 1em; text-align: center; vertical-align: top\">2018</td>\n",
       "    </tr>\n",
       "    <tr>\n",
       "        <td style=\"padding-left: 1em; padding-right: 1em; text-align: center; vertical-align: top\">260</td>\n",
       "        <td style=\"padding-left: 1em; padding-right: 1em; text-align: center; vertical-align: top\">1982</td>\n",
       "    </tr>\n",
       "    <tr>\n",
       "        <td style=\"padding-left: 1em; padding-right: 1em; text-align: center; vertical-align: top\">342</td>\n",
       "        <td style=\"padding-left: 1em; padding-right: 1em; text-align: center; vertical-align: top\">1982</td>\n",
       "    </tr>\n",
       "    <tr>\n",
       "        <td style=\"padding-left: 1em; padding-right: 1em; text-align: center; vertical-align: top\">3</td>\n",
       "        <td style=\"padding-left: 1em; padding-right: 1em; text-align: center; vertical-align: top\">1914</td>\n",
       "    </tr>\n",
       "</table>\n",
       "[609 rows x 2 columns]<br/>Note: Only the head of the SFrame is printed.<br/>You can use print_rows(num_rows=m, num_columns=n) to print more rows and columns.\n",
       "</div>"
      ],
      "text/plain": [
       "Columns:\n",
       "\tcategory_id\tint\n",
       "\tcount\tint\n",
       "\n",
       "Rows: 609\n",
       "\n",
       "Data:\n",
       "+-------------+-------+\n",
       "| category_id | count |\n",
       "+-------------+-------+\n",
       "|     367     |  3651 |\n",
       "|     520     |  2939 |\n",
       "|      71     |  2680 |\n",
       "|     358     |  2539 |\n",
       "|     390     |  2243 |\n",
       "|     483     |  2023 |\n",
       "|      59     |  2018 |\n",
       "|     260     |  1982 |\n",
       "|     342     |  1982 |\n",
       "|      3      |  1914 |\n",
       "+-------------+-------+\n",
       "[609 rows x 2 columns]\n",
       "Note: Only the head of the SFrame is printed.\n",
       "You can use print_rows(num_rows=m, num_columns=n) to print more rows and columns."
      ]
     },
     "execution_count": 44,
     "metadata": {},
     "output_type": "execute_result"
    }
   ],
   "source": [
    "no_of_brand_per_cat.sort('count',ascending=False)"
   ]
  },
  {
   "cell_type": "code",
   "execution_count": 49,
   "metadata": {
    "collapsed": false
   },
   "outputs": [],
   "source": [
    "cat_with_1_brand = (no_of_brand_per_cat[no_of_brand_per_cat['count']==1])['category_id']"
   ]
  },
  {
   "cell_type": "code",
   "execution_count": 63,
   "metadata": {
    "collapsed": false
   },
   "outputs": [
    {
     "data": {
      "text/plain": [
       "224"
      ]
     },
     "execution_count": 63,
     "metadata": {},
     "output_type": "execute_result"
    }
   ],
   "source": [
    "len(cat_with_1_brand)"
   ]
  },
  {
   "cell_type": "code",
   "execution_count": 64,
   "metadata": {
    "collapsed": false
   },
   "outputs": [],
   "source": [
    "to_work_data = my_data.filter_by(cat_with_1_brand,'category_id',exclude = True)"
   ]
  },
  {
   "cell_type": "code",
   "execution_count": 67,
   "metadata": {
    "collapsed": false
   },
   "outputs": [
    {
     "data": {
      "text/plain": [
       "999610"
      ]
     },
     "execution_count": 67,
     "metadata": {},
     "output_type": "execute_result"
    }
   ],
   "source": [
    "len(to_work_data)"
   ]
  },
  {
   "cell_type": "code",
   "execution_count": 68,
   "metadata": {
    "collapsed": false
   },
   "outputs": [
    {
     "data": {
      "text/plain": [
       "386"
      ]
     },
     "execution_count": 68,
     "metadata": {},
     "output_type": "execute_result"
    }
   ],
   "source": [
    "999996-999610"
   ]
  },
  {
   "cell_type": "code",
   "execution_count": 72,
   "metadata": {
    "collapsed": false
   },
   "outputs": [
    {
     "data": {
      "text/plain": [
       "dtype: int\n",
       "Rows: 35673\n",
       "[7899, 25263, 30621, 27112, 5288, 21925, 26561, 3143, 30727, 6769, 40111, 13050, 35140, 22258, 5684, 42728, 22239, 8455, 37816, 36992, 29200, 14515, 12158, 42352, 37497, 10273, 33926, 3988, 5783, 2847, 33146, 11106, 16257, 17885, 8324, 8727, 34045, 35561, 33316, 9234, 44220, 13560, 42209, 28139, 5531, 28246, 20519, 15863, 36773, 22772, 41169, 42872, 36372, 13518, 15927, 2871, 9923, 19319, 38036, 3913, 33105, 25926, 14388, 16200, 2043, 40613, 27530, 16498, 21081, 10888, 27073, 35435, 2445, 40355, 15635, 41855, 40293, 17938, 1029, 6511, 18587, 11049, 435, 1517, 7308, 34500, 25651, 38600, 42699, 23023, 25944, 40902, 39104, 44552, 11877, 11866, 537, 40953, 6000, 5302, ... ]"
      ]
     },
     "execution_count": 72,
     "metadata": {},
     "output_type": "execute_result"
    }
   ],
   "source": [
    "to_work_data['brand_id'].unique()"
   ]
  },
  {
   "cell_type": "code",
   "execution_count": 77,
   "metadata": {
    "collapsed": true
   },
   "outputs": [],
   "source": [
    "second_analysis = to_work_data.groupby(key_columns=['category_id','brand_id'],operations={'count': gl.aggregate.COUNT()})"
   ]
  },
  {
   "cell_type": "code",
   "execution_count": 82,
   "metadata": {
    "collapsed": false
   },
   "outputs": [],
   "source": [
    "second_analysis_brand_per_cat=second_analysis.groupby(key_columns=['category_id'],operations={'count': gl.aggregate.COUNT()})"
   ]
  },
  {
   "cell_type": "code",
   "execution_count": 85,
   "metadata": {
    "collapsed": false
   },
   "outputs": [
    {
     "data": {
      "text/html": [
       "<div style=\"max-height:1000px;max-width:1500px;overflow:auto;\"><table frame=\"box\" rules=\"cols\">\n",
       "    <tr>\n",
       "        <th style=\"padding-left: 1em; padding-right: 1em; text-align: center\">category_id</th>\n",
       "        <th style=\"padding-left: 1em; padding-right: 1em; text-align: center\">count</th>\n",
       "    </tr>\n",
       "    <tr>\n",
       "        <td style=\"padding-left: 1em; padding-right: 1em; text-align: center; vertical-align: top\">367</td>\n",
       "        <td style=\"padding-left: 1em; padding-right: 1em; text-align: center; vertical-align: top\">3651</td>\n",
       "    </tr>\n",
       "    <tr>\n",
       "        <td style=\"padding-left: 1em; padding-right: 1em; text-align: center; vertical-align: top\">520</td>\n",
       "        <td style=\"padding-left: 1em; padding-right: 1em; text-align: center; vertical-align: top\">2939</td>\n",
       "    </tr>\n",
       "    <tr>\n",
       "        <td style=\"padding-left: 1em; padding-right: 1em; text-align: center; vertical-align: top\">71</td>\n",
       "        <td style=\"padding-left: 1em; padding-right: 1em; text-align: center; vertical-align: top\">2680</td>\n",
       "    </tr>\n",
       "    <tr>\n",
       "        <td style=\"padding-left: 1em; padding-right: 1em; text-align: center; vertical-align: top\">358</td>\n",
       "        <td style=\"padding-left: 1em; padding-right: 1em; text-align: center; vertical-align: top\">2539</td>\n",
       "    </tr>\n",
       "    <tr>\n",
       "        <td style=\"padding-left: 1em; padding-right: 1em; text-align: center; vertical-align: top\">390</td>\n",
       "        <td style=\"padding-left: 1em; padding-right: 1em; text-align: center; vertical-align: top\">2243</td>\n",
       "    </tr>\n",
       "    <tr>\n",
       "        <td style=\"padding-left: 1em; padding-right: 1em; text-align: center; vertical-align: top\">483</td>\n",
       "        <td style=\"padding-left: 1em; padding-right: 1em; text-align: center; vertical-align: top\">2023</td>\n",
       "    </tr>\n",
       "    <tr>\n",
       "        <td style=\"padding-left: 1em; padding-right: 1em; text-align: center; vertical-align: top\">59</td>\n",
       "        <td style=\"padding-left: 1em; padding-right: 1em; text-align: center; vertical-align: top\">2018</td>\n",
       "    </tr>\n",
       "    <tr>\n",
       "        <td style=\"padding-left: 1em; padding-right: 1em; text-align: center; vertical-align: top\">260</td>\n",
       "        <td style=\"padding-left: 1em; padding-right: 1em; text-align: center; vertical-align: top\">1982</td>\n",
       "    </tr>\n",
       "    <tr>\n",
       "        <td style=\"padding-left: 1em; padding-right: 1em; text-align: center; vertical-align: top\">342</td>\n",
       "        <td style=\"padding-left: 1em; padding-right: 1em; text-align: center; vertical-align: top\">1982</td>\n",
       "    </tr>\n",
       "    <tr>\n",
       "        <td style=\"padding-left: 1em; padding-right: 1em; text-align: center; vertical-align: top\">3</td>\n",
       "        <td style=\"padding-left: 1em; padding-right: 1em; text-align: center; vertical-align: top\">1914</td>\n",
       "    </tr>\n",
       "</table>\n",
       "[385 rows x 2 columns]<br/>Note: Only the head of the SFrame is printed.<br/>You can use print_rows(num_rows=m, num_columns=n) to print more rows and columns.\n",
       "</div>"
      ],
      "text/plain": [
       "Columns:\n",
       "\tcategory_id\tint\n",
       "\tcount\tint\n",
       "\n",
       "Rows: 385\n",
       "\n",
       "Data:\n",
       "+-------------+-------+\n",
       "| category_id | count |\n",
       "+-------------+-------+\n",
       "|     367     |  3651 |\n",
       "|     520     |  2939 |\n",
       "|      71     |  2680 |\n",
       "|     358     |  2539 |\n",
       "|     390     |  2243 |\n",
       "|     483     |  2023 |\n",
       "|      59     |  2018 |\n",
       "|     260     |  1982 |\n",
       "|     342     |  1982 |\n",
       "|      3      |  1914 |\n",
       "+-------------+-------+\n",
       "[385 rows x 2 columns]\n",
       "Note: Only the head of the SFrame is printed.\n",
       "You can use print_rows(num_rows=m, num_columns=n) to print more rows and columns."
      ]
     },
     "execution_count": 85,
     "metadata": {},
     "output_type": "execute_result"
    }
   ],
   "source": [
    "second_analysis_brand_per_cat.sort('count',ascending=False)"
   ]
  },
  {
   "cell_type": "code",
   "execution_count": 86,
   "metadata": {
    "collapsed": false
   },
   "outputs": [
    {
     "name": "stdout",
     "output_type": "stream",
     "text": [
      "Canvas is accessible via web browser at the URL: http://localhost:58578/index.html\n",
      "Opening Canvas in default web browser.\n"
     ]
    }
   ],
   "source": [
    "second_analysis_brand_per_cat.show()"
   ]
  },
  {
   "cell_type": "code",
   "execution_count": 92,
   "metadata": {
    "collapsed": false
   },
   "outputs": [],
   "source": [
    "brand_count_analysis = to_work_data.groupby(key_columns=['brand_id'],operations={'count': gl.aggregate.COUNT()})"
   ]
  },
  {
   "cell_type": "code",
   "execution_count": 93,
   "metadata": {
    "collapsed": false
   },
   "outputs": [
    {
     "data": {
      "text/html": [
       "<div style=\"max-height:1000px;max-width:1500px;overflow:auto;\"><table frame=\"box\" rules=\"cols\">\n",
       "    <tr>\n",
       "        <th style=\"padding-left: 1em; padding-right: 1em; text-align: center\">brand_id</th>\n",
       "        <th style=\"padding-left: 1em; padding-right: 1em; text-align: center\">count</th>\n",
       "    </tr>\n",
       "    <tr>\n",
       "        <td style=\"padding-left: 1em; padding-right: 1em; text-align: center; vertical-align: top\">42835</td>\n",
       "        <td style=\"padding-left: 1em; padding-right: 1em; text-align: center; vertical-align: top\">41745</td>\n",
       "    </tr>\n",
       "    <tr>\n",
       "        <td style=\"padding-left: 1em; padding-right: 1em; text-align: center; vertical-align: top\">42383</td>\n",
       "        <td style=\"padding-left: 1em; padding-right: 1em; text-align: center; vertical-align: top\">22866</td>\n",
       "    </tr>\n",
       "    <tr>\n",
       "        <td style=\"padding-left: 1em; padding-right: 1em; text-align: center; vertical-align: top\">6584</td>\n",
       "        <td style=\"padding-left: 1em; padding-right: 1em; text-align: center; vertical-align: top\">19311</td>\n",
       "    </tr>\n",
       "    <tr>\n",
       "        <td style=\"padding-left: 1em; padding-right: 1em; text-align: center; vertical-align: top\">30503</td>\n",
       "        <td style=\"padding-left: 1em; padding-right: 1em; text-align: center; vertical-align: top\">14337</td>\n",
       "    </tr>\n",
       "    <tr>\n",
       "        <td style=\"padding-left: 1em; padding-right: 1em; text-align: center; vertical-align: top\">11580</td>\n",
       "        <td style=\"padding-left: 1em; padding-right: 1em; text-align: center; vertical-align: top\">11946</td>\n",
       "    </tr>\n",
       "    <tr>\n",
       "        <td style=\"padding-left: 1em; padding-right: 1em; text-align: center; vertical-align: top\">26992</td>\n",
       "        <td style=\"padding-left: 1em; padding-right: 1em; text-align: center; vertical-align: top\">11119</td>\n",
       "    </tr>\n",
       "    <tr>\n",
       "        <td style=\"padding-left: 1em; padding-right: 1em; text-align: center; vertical-align: top\">22765</td>\n",
       "        <td style=\"padding-left: 1em; padding-right: 1em; text-align: center; vertical-align: top\">8969</td>\n",
       "    </tr>\n",
       "    <tr>\n",
       "        <td style=\"padding-left: 1em; padding-right: 1em; text-align: center; vertical-align: top\">19709</td>\n",
       "        <td style=\"padding-left: 1em; padding-right: 1em; text-align: center; vertical-align: top\">8509</td>\n",
       "    </tr>\n",
       "    <tr>\n",
       "        <td style=\"padding-left: 1em; padding-right: 1em; text-align: center; vertical-align: top\">36274</td>\n",
       "        <td style=\"padding-left: 1em; padding-right: 1em; text-align: center; vertical-align: top\">8313</td>\n",
       "    </tr>\n",
       "    <tr>\n",
       "        <td style=\"padding-left: 1em; padding-right: 1em; text-align: center; vertical-align: top\">11544</td>\n",
       "        <td style=\"padding-left: 1em; padding-right: 1em; text-align: center; vertical-align: top\">8145</td>\n",
       "    </tr>\n",
       "</table>\n",
       "[35673 rows x 2 columns]<br/>Note: Only the head of the SFrame is printed.<br/>You can use print_rows(num_rows=m, num_columns=n) to print more rows and columns.\n",
       "</div>"
      ],
      "text/plain": [
       "Columns:\n",
       "\tbrand_id\tint\n",
       "\tcount\tint\n",
       "\n",
       "Rows: 35673\n",
       "\n",
       "Data:\n",
       "+----------+-------+\n",
       "| brand_id | count |\n",
       "+----------+-------+\n",
       "|  42835   | 41745 |\n",
       "|  42383   | 22866 |\n",
       "|   6584   | 19311 |\n",
       "|  30503   | 14337 |\n",
       "|  11580   | 11946 |\n",
       "|  26992   | 11119 |\n",
       "|  22765   |  8969 |\n",
       "|  19709   |  8509 |\n",
       "|  36274   |  8313 |\n",
       "|  11544   |  8145 |\n",
       "+----------+-------+\n",
       "[35673 rows x 2 columns]\n",
       "Note: Only the head of the SFrame is printed.\n",
       "You can use print_rows(num_rows=m, num_columns=n) to print more rows and columns."
      ]
     },
     "execution_count": 93,
     "metadata": {},
     "output_type": "execute_result"
    }
   ],
   "source": [
    "brand_count_analysis.sort('count',ascending=False)"
   ]
  },
  {
   "cell_type": "code",
   "execution_count": 103,
   "metadata": {
    "collapsed": false
   },
   "outputs": [
    {
     "data": {
      "text/html": [
       "<div style=\"max-height:1000px;max-width:1500px;overflow:auto;\"><table frame=\"box\" rules=\"cols\">\n",
       "    <tr>\n",
       "        <th style=\"padding-left: 1em; padding-right: 1em; text-align: center\">brand_id</th>\n",
       "        <th style=\"padding-left: 1em; padding-right: 1em; text-align: center\">totalrec</th>\n",
       "    </tr>\n",
       "    <tr>\n",
       "        <td style=\"padding-left: 1em; padding-right: 1em; text-align: center; vertical-align: top\">7899</td>\n",
       "        <td style=\"padding-left: 1em; padding-right: 1em; text-align: center; vertical-align: top\">3</td>\n",
       "    </tr>\n",
       "    <tr>\n",
       "        <td style=\"padding-left: 1em; padding-right: 1em; text-align: center; vertical-align: top\">25263</td>\n",
       "        <td style=\"padding-left: 1em; padding-right: 1em; text-align: center; vertical-align: top\">1</td>\n",
       "    </tr>\n",
       "    <tr>\n",
       "        <td style=\"padding-left: 1em; padding-right: 1em; text-align: center; vertical-align: top\">30621</td>\n",
       "        <td style=\"padding-left: 1em; padding-right: 1em; text-align: center; vertical-align: top\">1</td>\n",
       "    </tr>\n",
       "    <tr>\n",
       "        <td style=\"padding-left: 1em; padding-right: 1em; text-align: center; vertical-align: top\">27112</td>\n",
       "        <td style=\"padding-left: 1em; padding-right: 1em; text-align: center; vertical-align: top\">1</td>\n",
       "    </tr>\n",
       "    <tr>\n",
       "        <td style=\"padding-left: 1em; padding-right: 1em; text-align: center; vertical-align: top\">5288</td>\n",
       "        <td style=\"padding-left: 1em; padding-right: 1em; text-align: center; vertical-align: top\">1</td>\n",
       "    </tr>\n",
       "    <tr>\n",
       "        <td style=\"padding-left: 1em; padding-right: 1em; text-align: center; vertical-align: top\">21925</td>\n",
       "        <td style=\"padding-left: 1em; padding-right: 1em; text-align: center; vertical-align: top\">4</td>\n",
       "    </tr>\n",
       "    <tr>\n",
       "        <td style=\"padding-left: 1em; padding-right: 1em; text-align: center; vertical-align: top\">26561</td>\n",
       "        <td style=\"padding-left: 1em; padding-right: 1em; text-align: center; vertical-align: top\">1</td>\n",
       "    </tr>\n",
       "    <tr>\n",
       "        <td style=\"padding-left: 1em; padding-right: 1em; text-align: center; vertical-align: top\">3143</td>\n",
       "        <td style=\"padding-left: 1em; padding-right: 1em; text-align: center; vertical-align: top\">87</td>\n",
       "    </tr>\n",
       "    <tr>\n",
       "        <td style=\"padding-left: 1em; padding-right: 1em; text-align: center; vertical-align: top\">30727</td>\n",
       "        <td style=\"padding-left: 1em; padding-right: 1em; text-align: center; vertical-align: top\">4</td>\n",
       "    </tr>\n",
       "    <tr>\n",
       "        <td style=\"padding-left: 1em; padding-right: 1em; text-align: center; vertical-align: top\">6769</td>\n",
       "        <td style=\"padding-left: 1em; padding-right: 1em; text-align: center; vertical-align: top\">1</td>\n",
       "    </tr>\n",
       "</table>\n",
       "[35673 rows x 2 columns]<br/>Note: Only the head of the SFrame is printed.<br/>You can use print_rows(num_rows=m, num_columns=n) to print more rows and columns.\n",
       "</div>"
      ],
      "text/plain": [
       "Columns:\n",
       "\tbrand_id\tint\n",
       "\ttotalrec\tint\n",
       "\n",
       "Rows: 35673\n",
       "\n",
       "Data:\n",
       "+----------+----------+\n",
       "| brand_id | totalrec |\n",
       "+----------+----------+\n",
       "|   7899   |    3     |\n",
       "|  25263   |    1     |\n",
       "|  30621   |    1     |\n",
       "|  27112   |    1     |\n",
       "|   5288   |    1     |\n",
       "|  21925   |    4     |\n",
       "|  26561   |    1     |\n",
       "|   3143   |    87    |\n",
       "|  30727   |    4     |\n",
       "|   6769   |    1     |\n",
       "+----------+----------+\n",
       "[35673 rows x 2 columns]\n",
       "Note: Only the head of the SFrame is printed.\n",
       "You can use print_rows(num_rows=m, num_columns=n) to print more rows and columns."
      ]
     },
     "execution_count": 103,
     "metadata": {},
     "output_type": "execute_result"
    }
   ],
   "source": [
    "brand_count_analysis.rename({'count': 'totalrec'})"
   ]
  },
  {
   "cell_type": "code",
   "execution_count": 94,
   "metadata": {
    "collapsed": true
   },
   "outputs": [],
   "source": [
    "brand_cat_analysis = to_work_data.groupby(key_columns=['brand_id','category_id'],operations={'count': gl.aggregate.COUNT()})"
   ]
  },
  {
   "cell_type": "code",
   "execution_count": 99,
   "metadata": {
    "collapsed": false
   },
   "outputs": [],
   "source": [
    "cat_per_brand = brand_cat_analysis.groupby(key_columns=['brand_id'],operations={'count': gl.aggregate.COUNT()})"
   ]
  },
  {
   "cell_type": "code",
   "execution_count": 104,
   "metadata": {
    "collapsed": false
   },
   "outputs": [
    {
     "data": {
      "text/html": [
       "<div style=\"max-height:1000px;max-width:1500px;overflow:auto;\"><table frame=\"box\" rules=\"cols\">\n",
       "    <tr>\n",
       "        <th style=\"padding-left: 1em; padding-right: 1em; text-align: center\">brand_id</th>\n",
       "        <th style=\"padding-left: 1em; padding-right: 1em; text-align: center\">cat_count</th>\n",
       "    </tr>\n",
       "    <tr>\n",
       "        <td style=\"padding-left: 1em; padding-right: 1em; text-align: center; vertical-align: top\">7899</td>\n",
       "        <td style=\"padding-left: 1em; padding-right: 1em; text-align: center; vertical-align: top\">2</td>\n",
       "    </tr>\n",
       "    <tr>\n",
       "        <td style=\"padding-left: 1em; padding-right: 1em; text-align: center; vertical-align: top\">25263</td>\n",
       "        <td style=\"padding-left: 1em; padding-right: 1em; text-align: center; vertical-align: top\">1</td>\n",
       "    </tr>\n",
       "    <tr>\n",
       "        <td style=\"padding-left: 1em; padding-right: 1em; text-align: center; vertical-align: top\">30621</td>\n",
       "        <td style=\"padding-left: 1em; padding-right: 1em; text-align: center; vertical-align: top\">1</td>\n",
       "    </tr>\n",
       "    <tr>\n",
       "        <td style=\"padding-left: 1em; padding-right: 1em; text-align: center; vertical-align: top\">27112</td>\n",
       "        <td style=\"padding-left: 1em; padding-right: 1em; text-align: center; vertical-align: top\">1</td>\n",
       "    </tr>\n",
       "    <tr>\n",
       "        <td style=\"padding-left: 1em; padding-right: 1em; text-align: center; vertical-align: top\">5288</td>\n",
       "        <td style=\"padding-left: 1em; padding-right: 1em; text-align: center; vertical-align: top\">1</td>\n",
       "    </tr>\n",
       "    <tr>\n",
       "        <td style=\"padding-left: 1em; padding-right: 1em; text-align: center; vertical-align: top\">21925</td>\n",
       "        <td style=\"padding-left: 1em; padding-right: 1em; text-align: center; vertical-align: top\">2</td>\n",
       "    </tr>\n",
       "    <tr>\n",
       "        <td style=\"padding-left: 1em; padding-right: 1em; text-align: center; vertical-align: top\">26561</td>\n",
       "        <td style=\"padding-left: 1em; padding-right: 1em; text-align: center; vertical-align: top\">1</td>\n",
       "    </tr>\n",
       "    <tr>\n",
       "        <td style=\"padding-left: 1em; padding-right: 1em; text-align: center; vertical-align: top\">3143</td>\n",
       "        <td style=\"padding-left: 1em; padding-right: 1em; text-align: center; vertical-align: top\">1</td>\n",
       "    </tr>\n",
       "    <tr>\n",
       "        <td style=\"padding-left: 1em; padding-right: 1em; text-align: center; vertical-align: top\">30727</td>\n",
       "        <td style=\"padding-left: 1em; padding-right: 1em; text-align: center; vertical-align: top\">1</td>\n",
       "    </tr>\n",
       "    <tr>\n",
       "        <td style=\"padding-left: 1em; padding-right: 1em; text-align: center; vertical-align: top\">6769</td>\n",
       "        <td style=\"padding-left: 1em; padding-right: 1em; text-align: center; vertical-align: top\">1</td>\n",
       "    </tr>\n",
       "</table>\n",
       "[35673 rows x 2 columns]<br/>Note: Only the head of the SFrame is printed.<br/>You can use print_rows(num_rows=m, num_columns=n) to print more rows and columns.\n",
       "</div>"
      ],
      "text/plain": [
       "Columns:\n",
       "\tbrand_id\tint\n",
       "\tcat_count\tint\n",
       "\n",
       "Rows: 35673\n",
       "\n",
       "Data:\n",
       "+----------+-----------+\n",
       "| brand_id | cat_count |\n",
       "+----------+-----------+\n",
       "|   7899   |     2     |\n",
       "|  25263   |     1     |\n",
       "|  30621   |     1     |\n",
       "|  27112   |     1     |\n",
       "|   5288   |     1     |\n",
       "|  21925   |     2     |\n",
       "|  26561   |     1     |\n",
       "|   3143   |     1     |\n",
       "|  30727   |     1     |\n",
       "|   6769   |     1     |\n",
       "+----------+-----------+\n",
       "[35673 rows x 2 columns]\n",
       "Note: Only the head of the SFrame is printed.\n",
       "You can use print_rows(num_rows=m, num_columns=n) to print more rows and columns."
      ]
     },
     "execution_count": 104,
     "metadata": {},
     "output_type": "execute_result"
    }
   ],
   "source": [
    "cat_per_brand.rename({'count':'cat_count'})"
   ]
  },
  {
   "cell_type": "code",
   "execution_count": 105,
   "metadata": {
    "collapsed": false
   },
   "outputs": [],
   "source": [
    "joined = cat_per_brand.join(brand_count_analysis,on='brand_id')"
   ]
  },
  {
   "cell_type": "code",
   "execution_count": 107,
   "metadata": {
    "collapsed": false
   },
   "outputs": [],
   "source": [
    "joined['avg_rec_for_train']=joined['totalrec']/joined['cat_count']"
   ]
  },
  {
   "cell_type": "code",
   "execution_count": 114,
   "metadata": {
    "collapsed": false
   },
   "outputs": [
    {
     "data": {
      "text/plain": [
       "1821"
      ]
     },
     "execution_count": 114,
     "metadata": {},
     "output_type": "execute_result"
    }
   ],
   "source": [
    "len(joined[joined['avg_rec_for_train']>10])"
   ]
  },
  {
   "cell_type": "code",
   "execution_count": 112,
   "metadata": {
    "collapsed": false
   },
   "outputs": [
    {
     "data": {
      "text/plain": [
       "35673"
      ]
     },
     "execution_count": 112,
     "metadata": {},
     "output_type": "execute_result"
    }
   ],
   "source": [
    "len(joined)"
   ]
  },
  {
   "cell_type": "code",
   "execution_count": 115,
   "metadata": {
    "collapsed": false
   },
   "outputs": [
    {
     "data": {
      "text/html": [
       "<div style=\"max-height:1000px;max-width:1500px;overflow:auto;\"><table frame=\"box\" rules=\"cols\">\n",
       "    <tr>\n",
       "        <th style=\"padding-left: 1em; padding-right: 1em; text-align: center\">brand_id</th>\n",
       "        <th style=\"padding-left: 1em; padding-right: 1em; text-align: center\">cat_count</th>\n",
       "        <th style=\"padding-left: 1em; padding-right: 1em; text-align: center\">totalrec</th>\n",
       "        <th style=\"padding-left: 1em; padding-right: 1em; text-align: center\">avg_rec_for_train</th>\n",
       "    </tr>\n",
       "    <tr>\n",
       "        <td style=\"padding-left: 1em; padding-right: 1em; text-align: center; vertical-align: top\">7899</td>\n",
       "        <td style=\"padding-left: 1em; padding-right: 1em; text-align: center; vertical-align: top\">2</td>\n",
       "        <td style=\"padding-left: 1em; padding-right: 1em; text-align: center; vertical-align: top\">3</td>\n",
       "        <td style=\"padding-left: 1em; padding-right: 1em; text-align: center; vertical-align: top\">1.5</td>\n",
       "    </tr>\n",
       "    <tr>\n",
       "        <td style=\"padding-left: 1em; padding-right: 1em; text-align: center; vertical-align: top\">25263</td>\n",
       "        <td style=\"padding-left: 1em; padding-right: 1em; text-align: center; vertical-align: top\">1</td>\n",
       "        <td style=\"padding-left: 1em; padding-right: 1em; text-align: center; vertical-align: top\">1</td>\n",
       "        <td style=\"padding-left: 1em; padding-right: 1em; text-align: center; vertical-align: top\">1.0</td>\n",
       "    </tr>\n",
       "    <tr>\n",
       "        <td style=\"padding-left: 1em; padding-right: 1em; text-align: center; vertical-align: top\">30621</td>\n",
       "        <td style=\"padding-left: 1em; padding-right: 1em; text-align: center; vertical-align: top\">1</td>\n",
       "        <td style=\"padding-left: 1em; padding-right: 1em; text-align: center; vertical-align: top\">1</td>\n",
       "        <td style=\"padding-left: 1em; padding-right: 1em; text-align: center; vertical-align: top\">1.0</td>\n",
       "    </tr>\n",
       "    <tr>\n",
       "        <td style=\"padding-left: 1em; padding-right: 1em; text-align: center; vertical-align: top\">27112</td>\n",
       "        <td style=\"padding-left: 1em; padding-right: 1em; text-align: center; vertical-align: top\">1</td>\n",
       "        <td style=\"padding-left: 1em; padding-right: 1em; text-align: center; vertical-align: top\">1</td>\n",
       "        <td style=\"padding-left: 1em; padding-right: 1em; text-align: center; vertical-align: top\">1.0</td>\n",
       "    </tr>\n",
       "    <tr>\n",
       "        <td style=\"padding-left: 1em; padding-right: 1em; text-align: center; vertical-align: top\">5288</td>\n",
       "        <td style=\"padding-left: 1em; padding-right: 1em; text-align: center; vertical-align: top\">1</td>\n",
       "        <td style=\"padding-left: 1em; padding-right: 1em; text-align: center; vertical-align: top\">1</td>\n",
       "        <td style=\"padding-left: 1em; padding-right: 1em; text-align: center; vertical-align: top\">1.0</td>\n",
       "    </tr>\n",
       "    <tr>\n",
       "        <td style=\"padding-left: 1em; padding-right: 1em; text-align: center; vertical-align: top\">21925</td>\n",
       "        <td style=\"padding-left: 1em; padding-right: 1em; text-align: center; vertical-align: top\">2</td>\n",
       "        <td style=\"padding-left: 1em; padding-right: 1em; text-align: center; vertical-align: top\">4</td>\n",
       "        <td style=\"padding-left: 1em; padding-right: 1em; text-align: center; vertical-align: top\">2.0</td>\n",
       "    </tr>\n",
       "    <tr>\n",
       "        <td style=\"padding-left: 1em; padding-right: 1em; text-align: center; vertical-align: top\">26561</td>\n",
       "        <td style=\"padding-left: 1em; padding-right: 1em; text-align: center; vertical-align: top\">1</td>\n",
       "        <td style=\"padding-left: 1em; padding-right: 1em; text-align: center; vertical-align: top\">1</td>\n",
       "        <td style=\"padding-left: 1em; padding-right: 1em; text-align: center; vertical-align: top\">1.0</td>\n",
       "    </tr>\n",
       "    <tr>\n",
       "        <td style=\"padding-left: 1em; padding-right: 1em; text-align: center; vertical-align: top\">3143</td>\n",
       "        <td style=\"padding-left: 1em; padding-right: 1em; text-align: center; vertical-align: top\">1</td>\n",
       "        <td style=\"padding-left: 1em; padding-right: 1em; text-align: center; vertical-align: top\">87</td>\n",
       "        <td style=\"padding-left: 1em; padding-right: 1em; text-align: center; vertical-align: top\">87.0</td>\n",
       "    </tr>\n",
       "    <tr>\n",
       "        <td style=\"padding-left: 1em; padding-right: 1em; text-align: center; vertical-align: top\">30727</td>\n",
       "        <td style=\"padding-left: 1em; padding-right: 1em; text-align: center; vertical-align: top\">1</td>\n",
       "        <td style=\"padding-left: 1em; padding-right: 1em; text-align: center; vertical-align: top\">4</td>\n",
       "        <td style=\"padding-left: 1em; padding-right: 1em; text-align: center; vertical-align: top\">4.0</td>\n",
       "    </tr>\n",
       "    <tr>\n",
       "        <td style=\"padding-left: 1em; padding-right: 1em; text-align: center; vertical-align: top\">6769</td>\n",
       "        <td style=\"padding-left: 1em; padding-right: 1em; text-align: center; vertical-align: top\">1</td>\n",
       "        <td style=\"padding-left: 1em; padding-right: 1em; text-align: center; vertical-align: top\">1</td>\n",
       "        <td style=\"padding-left: 1em; padding-right: 1em; text-align: center; vertical-align: top\">1.0</td>\n",
       "    </tr>\n",
       "</table>\n",
       "[35673 rows x 4 columns]<br/>Note: Only the head of the SFrame is printed.<br/>You can use print_rows(num_rows=m, num_columns=n) to print more rows and columns.\n",
       "</div>"
      ],
      "text/plain": [
       "Columns:\n",
       "\tbrand_id\tint\n",
       "\tcat_count\tint\n",
       "\ttotalrec\tint\n",
       "\tavg_rec_for_train\tfloat\n",
       "\n",
       "Rows: 35673\n",
       "\n",
       "Data:\n",
       "+----------+-----------+----------+-------------------+\n",
       "| brand_id | cat_count | totalrec | avg_rec_for_train |\n",
       "+----------+-----------+----------+-------------------+\n",
       "|   7899   |     2     |    3     |        1.5        |\n",
       "|  25263   |     1     |    1     |        1.0        |\n",
       "|  30621   |     1     |    1     |        1.0        |\n",
       "|  27112   |     1     |    1     |        1.0        |\n",
       "|   5288   |     1     |    1     |        1.0        |\n",
       "|  21925   |     2     |    4     |        2.0        |\n",
       "|  26561   |     1     |    1     |        1.0        |\n",
       "|   3143   |     1     |    87    |        87.0       |\n",
       "|  30727   |     1     |    4     |        4.0        |\n",
       "|   6769   |     1     |    1     |        1.0        |\n",
       "+----------+-----------+----------+-------------------+\n",
       "[35673 rows x 4 columns]\n",
       "Note: Only the head of the SFrame is printed.\n",
       "You can use print_rows(num_rows=m, num_columns=n) to print more rows and columns."
      ]
     },
     "execution_count": 115,
     "metadata": {},
     "output_type": "execute_result"
    }
   ],
   "source": [
    "joined['ratio_records_percent_per_cat']=joined['avg_rec_for_train']/joined[]"
   ]
  },
  {
   "cell_type": "code",
   "execution_count": 213,
   "metadata": {
    "collapsed": false
   },
   "outputs": [
    {
     "name": "stdout",
     "output_type": "stream",
     "text": [
      "+----------+-----------+----------+-------------------+\n",
      "| brand_id | cat_count | totalrec | avg_rec_for_train |\n",
      "+----------+-----------+----------+-------------------+\n",
      "|  42835   |    151    |  41745   |   276.456953642   |\n",
      "|  42383   |    130    |  22866   |   175.892307692   |\n",
      "|   6584   |    179    |  19311   |   107.882681564   |\n",
      "|  30503   |     36    |  14337   |       398.25      |\n",
      "|  11580   |     51    |  11946   |   234.235294118   |\n",
      "|  26992   |     7     |  11119   |   1588.42857143   |\n",
      "|  22765   |     64    |   8969   |     140.140625    |\n",
      "|  19709   |    101    |   8509   |   84.2475247525   |\n",
      "|  36274   |     17    |   8313   |       489.0       |\n",
      "|  11544   |     7     |   8145   |   1163.57142857   |\n",
      "|   4361   |    104    |   8135   |   78.2211538462   |\n",
      "|  28720   |     88    |   7734   |   87.8863636364   |\n",
      "|  13325   |     72    |   7526   |   104.527777778   |\n",
      "|  31194   |     12    |   7462   |   621.833333333   |\n",
      "|  28421   |     1     |   7079   |       7079.0      |\n",
      "+----------+-----------+----------+-------------------+\n",
      "[35673 rows x 4 columns]\n",
      "\n"
     ]
    }
   ],
   "source": [
    "(joined.sort('totalrec',ascending=False)).print_rows(15)"
   ]
  },
  {
   "cell_type": "code",
   "execution_count": 215,
   "metadata": {
    "collapsed": false
   },
   "outputs": [
    {
     "data": {
      "text/plain": [
       "dtype: str\n",
       "Rows: ?\n",
       "['886 Vdsl/adsl Over ISDN', 'Cisco 2GB DRAM Memory Module [MEM-2900-2GB=] -', 'Cisco Jumper Power Cord', 'Cisco WAP4410N Wireless-N Access Point - PoE/Advanced Security', 'Cisco SPA8000 8-Port Telephony Gateway - 8 x , 1 x WAN SPA8000-G1', 'Cisco SPA504G IP Phone - Wired (Remote Customization) SPA504G-RC by Cisco', '2DA9313 - Cisco Catalyst WS-C3750X-48P-L Ethernet Switch', 'Catalyst 3750 24 Port SMI Swit', 'Cisco Compatible CWDM-SFP-1330 - 1000BASE-CWDM SFP Transceiver', 'Cisco Catalyst 2960S-48TS-L - switch - 48 ports - managed - rack-mountable', 'Cisco MGBLH1 Mini-GBIC Transceiver Module. SMALL BUSINESS GBE LH MINI-GBIC SFP TRANSCEIVER LC CONN TRANS. 1 x 1000Base-LH', 'Cisco VIC3-4FXS/DID Four-Port Voice Interface Card', 'Cisco 1921 Integrated Services Router - 2 Ports - 2 Slots - Rack-mountable, Wall Mountable', 'Cisco - Catalyst 2960C 12-Port FE PoE', 'Linksys WMP54G Wireless-G PCI Adapter', 'Cisco Catalyst 3750X-24T-L', 'Cisco Small Business RV180W - wireless router - 802.11b/g/n - desktop', 'SF 200-24P 24-Port 10/100 PoE', 'Cisco power supply PWR-184X-AC=', 'CISCO 802.11A/G/N CTRLR-BASED AP / AIR-CAP3502E-A-K9 /', 'Catalyst 3750x 12 Port Ge Sfp', '1 - IP Phone 2 Port Switch PoE', 'Cisco Aironet 5-GHz MIMO 6-dBi Patch Antenna', 'Cisco SF102-24-NA SF102 24 port 10 100 Switch', 'Cisco small business pro spa 303 ip phone, n american power', 'Cisco SF100D-08P-NA SF100D08P 8 port 10 100 Switch', 'Cisco Catalyst 3560 Series 8 Port PoE Switch, WS-C3560-8PC-S NEW', 'Cisco CP-7975G 7975G Series Unified IP Phone by Cisco', 'Cisco 836 Adsl ISDN Routr Plus', 'Cisco ASA 5525-X IPS Edition', 'Linksys WUMC710 IEEE 802.11ac 1.27 Gbps Wireless Bridge WUMC710 -', 'Cisco Catalyst Compact 2960CG-8TC-L - Switch - managed - 8 x 10/100/1000 + 2 x shared SFP - deskto *', 'Cisco SG200-18 18-port Gigabit', 'Cisco UBR-MC16E Modem Card, 1 downstream, 6 upstream @ 5-65MHz', 'Gigabit Ethernet Lx Mini-gbic', 'Cisco Spa504G With Ac Power', 'Cisco WS-C3560X-24T-L 3560X Series 24 Port Catalyst Switch', 'SG 200-26P 26-port Gigabit PoE', 'Cisco - Rack mounting kit - for Cisco 2911, 2921, 2951', 'Cisco WS-C3560-24/48PS-FANKIT 3x New Fans 3560 Series Catalyst Switch Replacement Fan Kit', '3230 Bundle With Rugged Enclosure Fully Assembled', 'CISCO FlexStack-Plus Hot-Swappable Stacking Module FOR CAT2960-X / C2960X-STACK= /', 'Cisco CISCO2951/K9 2951 Integrated Services Router - Router - Gigabit LAN - rack-mountable', 'CISCO ASA 5512X with IPS Edition Bun / ASA5512-IPS-K9 /', 'Cisco Wireless N Access Point W Poe wap121-a-k9-na -', 'Cisco PWR-RGD-AC-DC/IA Power Module', 'Cisco CK-2801-FAN For 2801 Router Replacement 1 New Fan in Pack', 'Cisco GLC-SX-MMD SFP 1000Base-SX Short Haul Multimode Module with DOM Support', 'Cisco Systems Cisco Power Supply - Hot-plug - 1300 Watt pwr-c45-1300acv= -', 'Cisco SF100D-08 8-Port Desktop 10/100 Switch SD208T', 'Cisco Catalyst 3650-24TD-S - Switch - L3 - managed - 24 x 10/100/1000 + 2 x 10 Gigabit SFP+ - desktop, rack-mountable', 'Cisco Systems Fasthub400 12-Port Autosensing 10/100 Managed Stk Rpt', 'CISCO WS-C3550-24-SMI CERTIFIED PRE-OWNED IM WARRANTY CATALYST 3550 24PORT SMI SWITCH', 'Cisco Small Business 300 Series Managed Switch SG300-52 - Switch - L3 - managed - 50 x 10/100/1000 + 2 x combo Gigabit SFP - rack-mountable 50 10/100/1000 PT 2 COMBO GBIC SG 300-52 Manufacturer Part Number SRW2048-K9-NA', 'Cisco 10DB 1.2 GHZ 1.65FT LONG ATTENUATOR PAD', 'CISCO #C888EG+7-K9 Cisco 888 G.SHDSL Router with 3G - Wireless router - DSL/WWAN - 4-port switch - 802.11b/g/n draft 2.0', 'Cisco FET-10G Fabric Extender SFP+ Module - 1 x 10GBase-X', 'Cisco Catalyst Compact 3560CG-8PC-S - switch - 8 ports - managed - desktop, rack-mountable, wall-m -', '1600 Series AP Dual Band', 'CISCO 192 CHANNEL HIGH-DENSITY VOICE & VIDEO DSP MODULE SPARE / PVDM3-192= /', 'Cisco R210FAN5= Fan Tray R210-FAN5=', '20FT LOW LOSS CABLE ASSEMBLY', '10 ft LOW LOSS CABLE ASSEMBLY', 'Cisco - Four port 10/100/1000 Ethernet', 'SF 200-24 24-Port 10/100', 'Sfp 100mbps Mm Fiber Fx', 'Cisco CP-7821-K9= 7821 IP Phone - Cable - Wall Mountable - 2 x Total Line - VoIP - Caller ID - SpeakerphoneUser Connect License - 2 x Network RJ-45 - PoE Ports', 'Cisco CISCO2801-FANKIT 2801 Router Replacement Fan kit 2x new fans', 'Cisco HWIC-4T1/E1 4-Port T1/E1 High-Speed WAN HWIC Interface Card', 'CISCO CISCO2851-SRST/K9 CISCO 2851 VOICE BNDL PVDM2-48 DISC PROD SPCL SOURCING SEE NOTES', 'Small Business Linksys-Cisco Vpn Router W/ 8port 10/100btx Sw', 'Cisco VS-S720-10G-3CXL Cat 6500 Supervisor 720', 'Cisco Catalyst WS-C3850-48T-E Ethernet Switch', 'Integrated Services Router Generation 2 819G-U - Router - Mobilmodem', 'Cisco WS-C3560-8PC-S 3560 8-PORT Poe Catalyst Switch', 'Cisco 2811 Integrated Services Router with Voice Bundle - Lifetime Warranty', 'Cisco ASA-RAILS= ASA 5555X Rail Kit Spare', 'Switch 8-Port 10/100Mbps Exp.', 'Cisco AIR-AP1231G-A-K9 Aironet 1200 Series Wireless Access Point', 'Cisco WS-X6748-SFP 6500 Series 48-Port Catalyst Switch Module', 'Cisco 2611XM - router CISCO2611XM-V-CCME', 'AIR-CAP3702E-A-K9 Cisco AiroNet 3702E IEEE 802.11ac 450Mbps Wireless Access Point Ism Band Unii Band', 'Sg100d 8 Port Gigabit Switch', 'Catalyst 2960 48-PORT 10/100Mb', 'IE-3010-16S-8PC Ethernet Switch', 'Cisco CISCO1841-ADSL2 1841 Integrated Services Router', 'Cisco AIR-CT2504-50-K9 2504 WLAN Controller w/ 50 AP', 'SG 200-26P 26-port Gigabit PoE', 'Cisco Catalyst 3560X-24T-L - Switch - managed - 24 x 10/100/1000 - rack-mountable *', 'Cisco SF 302-08MP 8-port 10/100 Max PoE Switch with Gigabit Uplinks (SRW208MP-K9-NA)', 'Catalyst 2960 XR 24 GigE Lite', 'Cisco CAB-PWR-ST-SHORT= Power cable kit - for TelePresence SX10, SX80', 'Cisco Smartnet - 1 Year - 24 X 7 X 4 - Carry-in - Maintenance - Parts', 'Cisco CWDM-GBIC-1550 Gigabit Interface Converter SFP', 'Cisco SFP+ transceiver module - fiber optic DS-SFP-FC8G-SW= -', 'Cisco ML-Series Multirate Ethernet Card 15454-ML-MR-10=', 'Catalyst 2960SF 48 FE 4 x SFP', 'Cisco AIR-PWR-B Aironet 48VDC Power Supply', 'Cisco Catalyst WS-C3560X-48T-L Gigabit Ethernet Switch', 'Cisco CISCO1760-FANKIT (2x New Fans) Router Replacement Fan Kit Cisco 1760 1760-V', ... ]"
      ]
     },
     "execution_count": 215,
     "metadata": {},
     "output_type": "execute_result"
    }
   ],
   "source": [
    "to_work_data[to_work_data['brand_id']==13325]['Title']"
   ]
  },
  {
   "cell_type": "markdown",
   "metadata": {},
   "source": [
    "# category analysis"
   ]
  },
  {
   "cell_type": "code",
   "execution_count": 116,
   "metadata": {
    "collapsed": true
   },
   "outputs": [],
   "source": [
    "cat_count_analysis = to_work_data.groupby(key_columns=['category_id'],operations={'count': gl.aggregate.COUNT()})"
   ]
  },
  {
   "cell_type": "code",
   "execution_count": 119,
   "metadata": {
    "collapsed": false
   },
   "outputs": [
    {
     "ename": "ValueError",
     "evalue": "Cannot find column count in the SFrame",
     "output_type": "error",
     "traceback": [
      "\u001b[0;31m---------------------------------------------------------------------------\u001b[0m",
      "\u001b[0;31mValueError\u001b[0m                                Traceback (most recent call last)",
      "\u001b[0;32m<ipython-input-119-62d59881ed3e>\u001b[0m in \u001b[0;36m<module>\u001b[0;34m()\u001b[0m\n\u001b[0;32m----> 1\u001b[0;31m \u001b[0mcat_count_analysis\u001b[0m\u001b[0;34m.\u001b[0m\u001b[0mrename\u001b[0m\u001b[0;34m(\u001b[0m\u001b[0;34m{\u001b[0m\u001b[0;34m'count'\u001b[0m\u001b[0;34m:\u001b[0m \u001b[0;34m'totalrec'\u001b[0m\u001b[0;34m}\u001b[0m\u001b[0;34m)\u001b[0m\u001b[0;34m\u001b[0m\u001b[0m\n\u001b[0m",
      "\u001b[0;32m/Users/sharmilis/anaconda2/envs/dato-env/lib/python2.7/site-packages/graphlab/data_structures/sframe.pyc\u001b[0m in \u001b[0;36mrename\u001b[0;34m(self, names)\u001b[0m\n\u001b[1;32m   3527\u001b[0m         \u001b[0;32mfor\u001b[0m \u001b[0mk\u001b[0m \u001b[0;32min\u001b[0m \u001b[0mnames\u001b[0m\u001b[0;34m:\u001b[0m\u001b[0;34m\u001b[0m\u001b[0m\n\u001b[1;32m   3528\u001b[0m             \u001b[0;32mif\u001b[0m \u001b[0;32mnot\u001b[0m \u001b[0mk\u001b[0m \u001b[0;32min\u001b[0m \u001b[0mall_columns\u001b[0m\u001b[0;34m:\u001b[0m\u001b[0;34m\u001b[0m\u001b[0m\n\u001b[0;32m-> 3529\u001b[0;31m                 \u001b[0;32mraise\u001b[0m \u001b[0mValueError\u001b[0m\u001b[0;34m(\u001b[0m\u001b[0;34m'Cannot find column %s in the SFrame'\u001b[0m \u001b[0;34m%\u001b[0m \u001b[0mk\u001b[0m\u001b[0;34m)\u001b[0m\u001b[0;34m\u001b[0m\u001b[0m\n\u001b[0m\u001b[1;32m   3530\u001b[0m         \u001b[0;32mwith\u001b[0m \u001b[0mcython_context\u001b[0m\u001b[0;34m(\u001b[0m\u001b[0;34m)\u001b[0m\u001b[0;34m:\u001b[0m\u001b[0;34m\u001b[0m\u001b[0m\n\u001b[1;32m   3531\u001b[0m             \u001b[0;32mfor\u001b[0m \u001b[0mk\u001b[0m \u001b[0;32min\u001b[0m \u001b[0mnames\u001b[0m\u001b[0;34m:\u001b[0m\u001b[0;34m\u001b[0m\u001b[0m\n",
      "\u001b[0;31mValueError\u001b[0m: Cannot find column count in the SFrame"
     ]
    }
   ],
   "source": [
    "cat_count_analysis.rename({'count': 'totalrec'})"
   ]
  },
  {
   "cell_type": "code",
   "execution_count": 120,
   "metadata": {
    "collapsed": false
   },
   "outputs": [],
   "source": [
    "brand_cat_analysis = to_work_data.groupby(key_columns=['brand_id','category_id'],operations={'count': gl.aggregate.COUNT()})"
   ]
  },
  {
   "cell_type": "code",
   "execution_count": 121,
   "metadata": {
    "collapsed": true
   },
   "outputs": [],
   "source": [
    "brand_per_cat = brand_cat_analysis.groupby(key_columns=['category_id'],operations={'count': gl.aggregate.COUNT()})"
   ]
  },
  {
   "cell_type": "code",
   "execution_count": 123,
   "metadata": {
    "collapsed": false
   },
   "outputs": [
    {
     "data": {
      "text/html": [
       "<div style=\"max-height:1000px;max-width:1500px;overflow:auto;\"><table frame=\"box\" rules=\"cols\">\n",
       "    <tr>\n",
       "        <th style=\"padding-left: 1em; padding-right: 1em; text-align: center\">category_id</th>\n",
       "        <th style=\"padding-left: 1em; padding-right: 1em; text-align: center\">brand_count</th>\n",
       "    </tr>\n",
       "    <tr>\n",
       "        <td style=\"padding-left: 1em; padding-right: 1em; text-align: center; vertical-align: top\">435</td>\n",
       "        <td style=\"padding-left: 1em; padding-right: 1em; text-align: center; vertical-align: top\">102</td>\n",
       "    </tr>\n",
       "    <tr>\n",
       "        <td style=\"padding-left: 1em; padding-right: 1em; text-align: center; vertical-align: top\">537</td>\n",
       "        <td style=\"padding-left: 1em; padding-right: 1em; text-align: center; vertical-align: top\">72</td>\n",
       "    </tr>\n",
       "    <tr>\n",
       "        <td style=\"padding-left: 1em; padding-right: 1em; text-align: center; vertical-align: top\">526</td>\n",
       "        <td style=\"padding-left: 1em; padding-right: 1em; text-align: center; vertical-align: top\">4</td>\n",
       "    </tr>\n",
       "    <tr>\n",
       "        <td style=\"padding-left: 1em; padding-right: 1em; text-align: center; vertical-align: top\">232</td>\n",
       "        <td style=\"padding-left: 1em; padding-right: 1em; text-align: center; vertical-align: top\">5</td>\n",
       "    </tr>\n",
       "    <tr>\n",
       "        <td style=\"padding-left: 1em; padding-right: 1em; text-align: center; vertical-align: top\">310</td>\n",
       "        <td style=\"padding-left: 1em; padding-right: 1em; text-align: center; vertical-align: top\">31</td>\n",
       "    </tr>\n",
       "    <tr>\n",
       "        <td style=\"padding-left: 1em; padding-right: 1em; text-align: center; vertical-align: top\">49</td>\n",
       "        <td style=\"padding-left: 1em; padding-right: 1em; text-align: center; vertical-align: top\">1882</td>\n",
       "    </tr>\n",
       "    <tr>\n",
       "        <td style=\"padding-left: 1em; padding-right: 1em; text-align: center; vertical-align: top\">13</td>\n",
       "        <td style=\"padding-left: 1em; padding-right: 1em; text-align: center; vertical-align: top\">4</td>\n",
       "    </tr>\n",
       "    <tr>\n",
       "        <td style=\"padding-left: 1em; padding-right: 1em; text-align: center; vertical-align: top\">60</td>\n",
       "        <td style=\"padding-left: 1em; padding-right: 1em; text-align: center; vertical-align: top\">284</td>\n",
       "    </tr>\n",
       "    <tr>\n",
       "        <td style=\"padding-left: 1em; padding-right: 1em; text-align: center; vertical-align: top\">431</td>\n",
       "        <td style=\"padding-left: 1em; padding-right: 1em; text-align: center; vertical-align: top\">370</td>\n",
       "    </tr>\n",
       "    <tr>\n",
       "        <td style=\"padding-left: 1em; padding-right: 1em; text-align: center; vertical-align: top\">621</td>\n",
       "        <td style=\"padding-left: 1em; padding-right: 1em; text-align: center; vertical-align: top\">5</td>\n",
       "    </tr>\n",
       "</table>\n",
       "[385 rows x 2 columns]<br/>Note: Only the head of the SFrame is printed.<br/>You can use print_rows(num_rows=m, num_columns=n) to print more rows and columns.\n",
       "</div>"
      ],
      "text/plain": [
       "Columns:\n",
       "\tcategory_id\tint\n",
       "\tbrand_count\tint\n",
       "\n",
       "Rows: 385\n",
       "\n",
       "Data:\n",
       "+-------------+-------------+\n",
       "| category_id | brand_count |\n",
       "+-------------+-------------+\n",
       "|     435     |     102     |\n",
       "|     537     |      72     |\n",
       "|     526     |      4      |\n",
       "|     232     |      5      |\n",
       "|     310     |      31     |\n",
       "|      49     |     1882    |\n",
       "|      13     |      4      |\n",
       "|      60     |     284     |\n",
       "|     431     |     370     |\n",
       "|     621     |      5      |\n",
       "+-------------+-------------+\n",
       "[385 rows x 2 columns]\n",
       "Note: Only the head of the SFrame is printed.\n",
       "You can use print_rows(num_rows=m, num_columns=n) to print more rows and columns."
      ]
     },
     "execution_count": 123,
     "metadata": {},
     "output_type": "execute_result"
    }
   ],
   "source": [
    "brand_per_cat.rename({'count':'brand_count'})"
   ]
  },
  {
   "cell_type": "code",
   "execution_count": 124,
   "metadata": {
    "collapsed": true
   },
   "outputs": [],
   "source": [
    "join_data = brand_per_cat.join(cat_count_analysis,on='category_id')"
   ]
  },
  {
   "cell_type": "code",
   "execution_count": 125,
   "metadata": {
    "collapsed": false
   },
   "outputs": [
    {
     "data": {
      "text/html": [
       "<div style=\"max-height:1000px;max-width:1500px;overflow:auto;\"><table frame=\"box\" rules=\"cols\">\n",
       "    <tr>\n",
       "        <th style=\"padding-left: 1em; padding-right: 1em; text-align: center\">category_id</th>\n",
       "        <th style=\"padding-left: 1em; padding-right: 1em; text-align: center\">brand_count</th>\n",
       "        <th style=\"padding-left: 1em; padding-right: 1em; text-align: center\">totalrec</th>\n",
       "    </tr>\n",
       "    <tr>\n",
       "        <td style=\"padding-left: 1em; padding-right: 1em; text-align: center; vertical-align: top\">435</td>\n",
       "        <td style=\"padding-left: 1em; padding-right: 1em; text-align: center; vertical-align: top\">102</td>\n",
       "        <td style=\"padding-left: 1em; padding-right: 1em; text-align: center; vertical-align: top\">296</td>\n",
       "    </tr>\n",
       "    <tr>\n",
       "        <td style=\"padding-left: 1em; padding-right: 1em; text-align: center; vertical-align: top\">537</td>\n",
       "        <td style=\"padding-left: 1em; padding-right: 1em; text-align: center; vertical-align: top\">72</td>\n",
       "        <td style=\"padding-left: 1em; padding-right: 1em; text-align: center; vertical-align: top\">109</td>\n",
       "    </tr>\n",
       "    <tr>\n",
       "        <td style=\"padding-left: 1em; padding-right: 1em; text-align: center; vertical-align: top\">526</td>\n",
       "        <td style=\"padding-left: 1em; padding-right: 1em; text-align: center; vertical-align: top\">4</td>\n",
       "        <td style=\"padding-left: 1em; padding-right: 1em; text-align: center; vertical-align: top\">5</td>\n",
       "    </tr>\n",
       "    <tr>\n",
       "        <td style=\"padding-left: 1em; padding-right: 1em; text-align: center; vertical-align: top\">232</td>\n",
       "        <td style=\"padding-left: 1em; padding-right: 1em; text-align: center; vertical-align: top\">5</td>\n",
       "        <td style=\"padding-left: 1em; padding-right: 1em; text-align: center; vertical-align: top\">6</td>\n",
       "    </tr>\n",
       "    <tr>\n",
       "        <td style=\"padding-left: 1em; padding-right: 1em; text-align: center; vertical-align: top\">310</td>\n",
       "        <td style=\"padding-left: 1em; padding-right: 1em; text-align: center; vertical-align: top\">31</td>\n",
       "        <td style=\"padding-left: 1em; padding-right: 1em; text-align: center; vertical-align: top\">3540</td>\n",
       "    </tr>\n",
       "    <tr>\n",
       "        <td style=\"padding-left: 1em; padding-right: 1em; text-align: center; vertical-align: top\">49</td>\n",
       "        <td style=\"padding-left: 1em; padding-right: 1em; text-align: center; vertical-align: top\">1882</td>\n",
       "        <td style=\"padding-left: 1em; padding-right: 1em; text-align: center; vertical-align: top\">14445</td>\n",
       "    </tr>\n",
       "    <tr>\n",
       "        <td style=\"padding-left: 1em; padding-right: 1em; text-align: center; vertical-align: top\">13</td>\n",
       "        <td style=\"padding-left: 1em; padding-right: 1em; text-align: center; vertical-align: top\">4</td>\n",
       "        <td style=\"padding-left: 1em; padding-right: 1em; text-align: center; vertical-align: top\">185</td>\n",
       "    </tr>\n",
       "    <tr>\n",
       "        <td style=\"padding-left: 1em; padding-right: 1em; text-align: center; vertical-align: top\">60</td>\n",
       "        <td style=\"padding-left: 1em; padding-right: 1em; text-align: center; vertical-align: top\">284</td>\n",
       "        <td style=\"padding-left: 1em; padding-right: 1em; text-align: center; vertical-align: top\">405</td>\n",
       "    </tr>\n",
       "    <tr>\n",
       "        <td style=\"padding-left: 1em; padding-right: 1em; text-align: center; vertical-align: top\">431</td>\n",
       "        <td style=\"padding-left: 1em; padding-right: 1em; text-align: center; vertical-align: top\">370</td>\n",
       "        <td style=\"padding-left: 1em; padding-right: 1em; text-align: center; vertical-align: top\">1178</td>\n",
       "    </tr>\n",
       "    <tr>\n",
       "        <td style=\"padding-left: 1em; padding-right: 1em; text-align: center; vertical-align: top\">621</td>\n",
       "        <td style=\"padding-left: 1em; padding-right: 1em; text-align: center; vertical-align: top\">5</td>\n",
       "        <td style=\"padding-left: 1em; padding-right: 1em; text-align: center; vertical-align: top\">5</td>\n",
       "    </tr>\n",
       "</table>\n",
       "[385 rows x 3 columns]<br/>Note: Only the head of the SFrame is printed.<br/>You can use print_rows(num_rows=m, num_columns=n) to print more rows and columns.\n",
       "</div>"
      ],
      "text/plain": [
       "Columns:\n",
       "\tcategory_id\tint\n",
       "\tbrand_count\tint\n",
       "\ttotalrec\tint\n",
       "\n",
       "Rows: 385\n",
       "\n",
       "Data:\n",
       "+-------------+-------------+----------+\n",
       "| category_id | brand_count | totalrec |\n",
       "+-------------+-------------+----------+\n",
       "|     435     |     102     |   296    |\n",
       "|     537     |      72     |   109    |\n",
       "|     526     |      4      |    5     |\n",
       "|     232     |      5      |    6     |\n",
       "|     310     |      31     |   3540   |\n",
       "|      49     |     1882    |  14445   |\n",
       "|      13     |      4      |   185    |\n",
       "|      60     |     284     |   405    |\n",
       "|     431     |     370     |   1178   |\n",
       "|     621     |      5      |    5     |\n",
       "+-------------+-------------+----------+\n",
       "[385 rows x 3 columns]\n",
       "Note: Only the head of the SFrame is printed.\n",
       "You can use print_rows(num_rows=m, num_columns=n) to print more rows and columns."
      ]
     },
     "execution_count": 125,
     "metadata": {},
     "output_type": "execute_result"
    }
   ],
   "source": [
    "join_data"
   ]
  },
  {
   "cell_type": "code",
   "execution_count": 126,
   "metadata": {
    "collapsed": true
   },
   "outputs": [],
   "source": [
    "join_data['avg_rec_per_brand']=join_data['totalrec']/join_data['brand_count']"
   ]
  },
  {
   "cell_type": "code",
   "execution_count": 129,
   "metadata": {
    "collapsed": false
   },
   "outputs": [
    {
     "data": {
      "text/html": [
       "<div style=\"max-height:1000px;max-width:1500px;overflow:auto;\"><table frame=\"box\" rules=\"cols\">\n",
       "    <tr>\n",
       "        <th style=\"padding-left: 1em; padding-right: 1em; text-align: center\">category_id</th>\n",
       "        <th style=\"padding-left: 1em; padding-right: 1em; text-align: center\">brand_count</th>\n",
       "        <th style=\"padding-left: 1em; padding-right: 1em; text-align: center\">totalrec</th>\n",
       "        <th style=\"padding-left: 1em; padding-right: 1em; text-align: center\">avg_rec_per_brand</th>\n",
       "    </tr>\n",
       "    <tr>\n",
       "        <td style=\"padding-left: 1em; padding-right: 1em; text-align: center; vertical-align: top\">499</td>\n",
       "        <td style=\"padding-left: 1em; padding-right: 1em; text-align: center; vertical-align: top\">2</td>\n",
       "        <td style=\"padding-left: 1em; padding-right: 1em; text-align: center; vertical-align: top\">374</td>\n",
       "        <td style=\"padding-left: 1em; padding-right: 1em; text-align: center; vertical-align: top\">187.0</td>\n",
       "    </tr>\n",
       "    <tr>\n",
       "        <td style=\"padding-left: 1em; padding-right: 1em; text-align: center; vertical-align: top\">36</td>\n",
       "        <td style=\"padding-left: 1em; padding-right: 1em; text-align: center; vertical-align: top\">6</td>\n",
       "        <td style=\"padding-left: 1em; padding-right: 1em; text-align: center; vertical-align: top\">803</td>\n",
       "        <td style=\"padding-left: 1em; padding-right: 1em; text-align: center; vertical-align: top\">133.833333333</td>\n",
       "    </tr>\n",
       "    <tr>\n",
       "        <td style=\"padding-left: 1em; padding-right: 1em; text-align: center; vertical-align: top\">310</td>\n",
       "        <td style=\"padding-left: 1em; padding-right: 1em; text-align: center; vertical-align: top\">31</td>\n",
       "        <td style=\"padding-left: 1em; padding-right: 1em; text-align: center; vertical-align: top\">3540</td>\n",
       "        <td style=\"padding-left: 1em; padding-right: 1em; text-align: center; vertical-align: top\">114.193548387</td>\n",
       "    </tr>\n",
       "    <tr>\n",
       "        <td style=\"padding-left: 1em; padding-right: 1em; text-align: center; vertical-align: top\">618</td>\n",
       "        <td style=\"padding-left: 1em; padding-right: 1em; text-align: center; vertical-align: top\">338</td>\n",
       "        <td style=\"padding-left: 1em; padding-right: 1em; text-align: center; vertical-align: top\">27544</td>\n",
       "        <td style=\"padding-left: 1em; padding-right: 1em; text-align: center; vertical-align: top\">81.4911242604</td>\n",
       "    </tr>\n",
       "    <tr>\n",
       "        <td style=\"padding-left: 1em; padding-right: 1em; text-align: center; vertical-align: top\">52</td>\n",
       "        <td style=\"padding-left: 1em; padding-right: 1em; text-align: center; vertical-align: top\">13</td>\n",
       "        <td style=\"padding-left: 1em; padding-right: 1em; text-align: center; vertical-align: top\">930</td>\n",
       "        <td style=\"padding-left: 1em; padding-right: 1em; text-align: center; vertical-align: top\">71.5384615385</td>\n",
       "    </tr>\n",
       "    <tr>\n",
       "        <td style=\"padding-left: 1em; padding-right: 1em; text-align: center; vertical-align: top\">13</td>\n",
       "        <td style=\"padding-left: 1em; padding-right: 1em; text-align: center; vertical-align: top\">4</td>\n",
       "        <td style=\"padding-left: 1em; padding-right: 1em; text-align: center; vertical-align: top\">185</td>\n",
       "        <td style=\"padding-left: 1em; padding-right: 1em; text-align: center; vertical-align: top\">46.25</td>\n",
       "    </tr>\n",
       "    <tr>\n",
       "        <td style=\"padding-left: 1em; padding-right: 1em; text-align: center; vertical-align: top\">442</td>\n",
       "        <td style=\"padding-left: 1em; padding-right: 1em; text-align: center; vertical-align: top\">395</td>\n",
       "        <td style=\"padding-left: 1em; padding-right: 1em; text-align: center; vertical-align: top\">17778</td>\n",
       "        <td style=\"padding-left: 1em; padding-right: 1em; text-align: center; vertical-align: top\">45.0075949367</td>\n",
       "    </tr>\n",
       "    <tr>\n",
       "        <td style=\"padding-left: 1em; padding-right: 1em; text-align: center; vertical-align: top\">340</td>\n",
       "        <td style=\"padding-left: 1em; padding-right: 1em; text-align: center; vertical-align: top\">25</td>\n",
       "        <td style=\"padding-left: 1em; padding-right: 1em; text-align: center; vertical-align: top\">1045</td>\n",
       "        <td style=\"padding-left: 1em; padding-right: 1em; text-align: center; vertical-align: top\">41.8</td>\n",
       "    </tr>\n",
       "    <tr>\n",
       "        <td style=\"padding-left: 1em; padding-right: 1em; text-align: center; vertical-align: top\">625</td>\n",
       "        <td style=\"padding-left: 1em; padding-right: 1em; text-align: center; vertical-align: top\">1233</td>\n",
       "        <td style=\"padding-left: 1em; padding-right: 1em; text-align: center; vertical-align: top\">46476</td>\n",
       "        <td style=\"padding-left: 1em; padding-right: 1em; text-align: center; vertical-align: top\">37.6934306569</td>\n",
       "    </tr>\n",
       "    <tr>\n",
       "        <td style=\"padding-left: 1em; padding-right: 1em; text-align: center; vertical-align: top\">287</td>\n",
       "        <td style=\"padding-left: 1em; padding-right: 1em; text-align: center; vertical-align: top\">495</td>\n",
       "        <td style=\"padding-left: 1em; padding-right: 1em; text-align: center; vertical-align: top\">16470</td>\n",
       "        <td style=\"padding-left: 1em; padding-right: 1em; text-align: center; vertical-align: top\">33.2727272727</td>\n",
       "    </tr>\n",
       "</table>\n",
       "[385 rows x 4 columns]<br/>Note: Only the head of the SFrame is printed.<br/>You can use print_rows(num_rows=m, num_columns=n) to print more rows and columns.\n",
       "</div>"
      ],
      "text/plain": [
       "Columns:\n",
       "\tcategory_id\tint\n",
       "\tbrand_count\tint\n",
       "\ttotalrec\tint\n",
       "\tavg_rec_per_brand\tfloat\n",
       "\n",
       "Rows: 385\n",
       "\n",
       "Data:\n",
       "+-------------+-------------+----------+-------------------+\n",
       "| category_id | brand_count | totalrec | avg_rec_per_brand |\n",
       "+-------------+-------------+----------+-------------------+\n",
       "|     499     |      2      |   374    |       187.0       |\n",
       "|      36     |      6      |   803    |   133.833333333   |\n",
       "|     310     |      31     |   3540   |   114.193548387   |\n",
       "|     618     |     338     |  27544   |   81.4911242604   |\n",
       "|      52     |      13     |   930    |   71.5384615385   |\n",
       "|      13     |      4      |   185    |       46.25       |\n",
       "|     442     |     395     |  17778   |   45.0075949367   |\n",
       "|     340     |      25     |   1045   |        41.8       |\n",
       "|     625     |     1233    |  46476   |   37.6934306569   |\n",
       "|     287     |     495     |  16470   |   33.2727272727   |\n",
       "+-------------+-------------+----------+-------------------+\n",
       "[385 rows x 4 columns]\n",
       "Note: Only the head of the SFrame is printed.\n",
       "You can use print_rows(num_rows=m, num_columns=n) to print more rows and columns."
      ]
     },
     "execution_count": 129,
     "metadata": {},
     "output_type": "execute_result"
    }
   ],
   "source": [
    "join_data.sort('avg_rec_per_brand',ascending=False)"
   ]
  },
  {
   "cell_type": "code",
   "execution_count": 192,
   "metadata": {
    "collapsed": false
   },
   "outputs": [
    {
     "data": {
      "text/html": [
       "<div style=\"max-height:1000px;max-width:1500px;overflow:auto;\"><table frame=\"box\" rules=\"cols\">\n",
       "    <tr>\n",
       "        <th style=\"padding-left: 1em; padding-right: 1em; text-align: center\">category_id</th>\n",
       "        <th style=\"padding-left: 1em; padding-right: 1em; text-align: center\">brand_count</th>\n",
       "        <th style=\"padding-left: 1em; padding-right: 1em; text-align: center\">totalrec</th>\n",
       "        <th style=\"padding-left: 1em; padding-right: 1em; text-align: center\">avg_rec_per_brand</th>\n",
       "    </tr>\n",
       "    <tr>\n",
       "        <td style=\"padding-left: 1em; padding-right: 1em; text-align: center; vertical-align: top\">260</td>\n",
       "        <td style=\"padding-left: 1em; padding-right: 1em; text-align: center; vertical-align: top\">1982</td>\n",
       "        <td style=\"padding-left: 1em; padding-right: 1em; text-align: center; vertical-align: top\">60009</td>\n",
       "        <td style=\"padding-left: 1em; padding-right: 1em; text-align: center; vertical-align: top\">30.2769929364</td>\n",
       "    </tr>\n",
       "    <tr>\n",
       "        <td style=\"padding-left: 1em; padding-right: 1em; text-align: center; vertical-align: top\">625</td>\n",
       "        <td style=\"padding-left: 1em; padding-right: 1em; text-align: center; vertical-align: top\">1233</td>\n",
       "        <td style=\"padding-left: 1em; padding-right: 1em; text-align: center; vertical-align: top\">46476</td>\n",
       "        <td style=\"padding-left: 1em; padding-right: 1em; text-align: center; vertical-align: top\">37.6934306569</td>\n",
       "    </tr>\n",
       "    <tr>\n",
       "        <td style=\"padding-left: 1em; padding-right: 1em; text-align: center; vertical-align: top\">483</td>\n",
       "        <td style=\"padding-left: 1em; padding-right: 1em; text-align: center; vertical-align: top\">2023</td>\n",
       "        <td style=\"padding-left: 1em; padding-right: 1em; text-align: center; vertical-align: top\">33416</td>\n",
       "        <td style=\"padding-left: 1em; padding-right: 1em; text-align: center; vertical-align: top\">16.5180425111</td>\n",
       "    </tr>\n",
       "    <tr>\n",
       "        <td style=\"padding-left: 1em; padding-right: 1em; text-align: center; vertical-align: top\">666</td>\n",
       "        <td style=\"padding-left: 1em; padding-right: 1em; text-align: center; vertical-align: top\">1184</td>\n",
       "        <td style=\"padding-left: 1em; padding-right: 1em; text-align: center; vertical-align: top\">30612</td>\n",
       "        <td style=\"padding-left: 1em; padding-right: 1em; text-align: center; vertical-align: top\">25.8547297297</td>\n",
       "    </tr>\n",
       "    <tr>\n",
       "        <td style=\"padding-left: 1em; padding-right: 1em; text-align: center; vertical-align: top\">618</td>\n",
       "        <td style=\"padding-left: 1em; padding-right: 1em; text-align: center; vertical-align: top\">338</td>\n",
       "        <td style=\"padding-left: 1em; padding-right: 1em; text-align: center; vertical-align: top\">27544</td>\n",
       "        <td style=\"padding-left: 1em; padding-right: 1em; text-align: center; vertical-align: top\">81.4911242604</td>\n",
       "    </tr>\n",
       "    <tr>\n",
       "        <td style=\"padding-left: 1em; padding-right: 1em; text-align: center; vertical-align: top\">367</td>\n",
       "        <td style=\"padding-left: 1em; padding-right: 1em; text-align: center; vertical-align: top\">3651</td>\n",
       "        <td style=\"padding-left: 1em; padding-right: 1em; text-align: center; vertical-align: top\">26318</td>\n",
       "        <td style=\"padding-left: 1em; padding-right: 1em; text-align: center; vertical-align: top\">7.20843604492</td>\n",
       "    </tr>\n",
       "    <tr>\n",
       "        <td style=\"padding-left: 1em; padding-right: 1em; text-align: center; vertical-align: top\">603</td>\n",
       "        <td style=\"padding-left: 1em; padding-right: 1em; text-align: center; vertical-align: top\">787</td>\n",
       "        <td style=\"padding-left: 1em; padding-right: 1em; text-align: center; vertical-align: top\">24678</td>\n",
       "        <td style=\"padding-left: 1em; padding-right: 1em; text-align: center; vertical-align: top\">31.3570520966</td>\n",
       "    </tr>\n",
       "    <tr>\n",
       "        <td style=\"padding-left: 1em; padding-right: 1em; text-align: center; vertical-align: top\">71</td>\n",
       "        <td style=\"padding-left: 1em; padding-right: 1em; text-align: center; vertical-align: top\">2680</td>\n",
       "        <td style=\"padding-left: 1em; padding-right: 1em; text-align: center; vertical-align: top\">23343</td>\n",
       "        <td style=\"padding-left: 1em; padding-right: 1em; text-align: center; vertical-align: top\">8.71007462687</td>\n",
       "    </tr>\n",
       "    <tr>\n",
       "        <td style=\"padding-left: 1em; padding-right: 1em; text-align: center; vertical-align: top\">390</td>\n",
       "        <td style=\"padding-left: 1em; padding-right: 1em; text-align: center; vertical-align: top\">2243</td>\n",
       "        <td style=\"padding-left: 1em; padding-right: 1em; text-align: center; vertical-align: top\">22108</td>\n",
       "        <td style=\"padding-left: 1em; padding-right: 1em; text-align: center; vertical-align: top\">9.85644226482</td>\n",
       "    </tr>\n",
       "    <tr>\n",
       "        <td style=\"padding-left: 1em; padding-right: 1em; text-align: center; vertical-align: top\">342</td>\n",
       "        <td style=\"padding-left: 1em; padding-right: 1em; text-align: center; vertical-align: top\">1982</td>\n",
       "        <td style=\"padding-left: 1em; padding-right: 1em; text-align: center; vertical-align: top\">21498</td>\n",
       "        <td style=\"padding-left: 1em; padding-right: 1em; text-align: center; vertical-align: top\">10.8466195762</td>\n",
       "    </tr>\n",
       "</table>\n",
       "[385 rows x 4 columns]<br/>Note: Only the head of the SFrame is printed.<br/>You can use print_rows(num_rows=m, num_columns=n) to print more rows and columns.\n",
       "</div>"
      ],
      "text/plain": [
       "Columns:\n",
       "\tcategory_id\tint\n",
       "\tbrand_count\tint\n",
       "\ttotalrec\tint\n",
       "\tavg_rec_per_brand\tfloat\n",
       "\n",
       "Rows: 385\n",
       "\n",
       "Data:\n",
       "+-------------+-------------+----------+-------------------+\n",
       "| category_id | brand_count | totalrec | avg_rec_per_brand |\n",
       "+-------------+-------------+----------+-------------------+\n",
       "|     260     |     1982    |  60009   |   30.2769929364   |\n",
       "|     625     |     1233    |  46476   |   37.6934306569   |\n",
       "|     483     |     2023    |  33416   |   16.5180425111   |\n",
       "|     666     |     1184    |  30612   |   25.8547297297   |\n",
       "|     618     |     338     |  27544   |   81.4911242604   |\n",
       "|     367     |     3651    |  26318   |   7.20843604492   |\n",
       "|     603     |     787     |  24678   |   31.3570520966   |\n",
       "|      71     |     2680    |  23343   |   8.71007462687   |\n",
       "|     390     |     2243    |  22108   |   9.85644226482   |\n",
       "|     342     |     1982    |  21498   |   10.8466195762   |\n",
       "+-------------+-------------+----------+-------------------+\n",
       "[385 rows x 4 columns]\n",
       "Note: Only the head of the SFrame is printed.\n",
       "You can use print_rows(num_rows=m, num_columns=n) to print more rows and columns."
      ]
     },
     "execution_count": 192,
     "metadata": {},
     "output_type": "execute_result"
    }
   ],
   "source": [
    "join_data.sort('totalrec',ascending=False)"
   ]
  },
  {
   "cell_type": "code",
   "execution_count": 195,
   "metadata": {
    "collapsed": false
   },
   "outputs": [
    {
     "data": {
      "text/html": [
       "<div style=\"max-height:1000px;max-width:1500px;overflow:auto;\"><table frame=\"box\" rules=\"cols\">\n",
       "    <tr>\n",
       "        <th style=\"padding-left: 1em; padding-right: 1em; text-align: center\">category_id</th>\n",
       "        <th style=\"padding-left: 1em; padding-right: 1em; text-align: center\">brand_count</th>\n",
       "        <th style=\"padding-left: 1em; padding-right: 1em; text-align: center\">totalrec</th>\n",
       "        <th style=\"padding-left: 1em; padding-right: 1em; text-align: center\">avg_rec_per_brand</th>\n",
       "    </tr>\n",
       "    <tr>\n",
       "        <td style=\"padding-left: 1em; padding-right: 1em; text-align: center; vertical-align: top\">260</td>\n",
       "        <td style=\"padding-left: 1em; padding-right: 1em; text-align: center; vertical-align: top\">1982</td>\n",
       "        <td style=\"padding-left: 1em; padding-right: 1em; text-align: center; vertical-align: top\">60009</td>\n",
       "        <td style=\"padding-left: 1em; padding-right: 1em; text-align: center; vertical-align: top\">30.2769929364</td>\n",
       "    </tr>\n",
       "</table>\n",
       "[? rows x 4 columns]<br/>Note: Only the head of the SFrame is printed. This SFrame is lazily evaluated.<br/>You can use len(sf) to force materialization.\n",
       "</div>"
      ],
      "text/plain": [
       "Columns:\n",
       "\tcategory_id\tint\n",
       "\tbrand_count\tint\n",
       "\ttotalrec\tint\n",
       "\tavg_rec_per_brand\tfloat\n",
       "\n",
       "Rows: Unknown\n",
       "\n",
       "Data:\n",
       "+-------------+-------------+----------+-------------------+\n",
       "| category_id | brand_count | totalrec | avg_rec_per_brand |\n",
       "+-------------+-------------+----------+-------------------+\n",
       "|     260     |     1982    |  60009   |   30.2769929364   |\n",
       "+-------------+-------------+----------+-------------------+\n",
       "[? rows x 4 columns]\n",
       "Note: Only the head of the SFrame is printed. This SFrame is lazily evaluated.\n",
       "You can use len(sf) to force materialization."
      ]
     },
     "execution_count": 195,
     "metadata": {},
     "output_type": "execute_result"
    }
   ],
   "source": [
    "join_data[join_data['category_id'] == 260]"
   ]
  },
  {
   "cell_type": "code",
   "execution_count": 1,
   "metadata": {
    "collapsed": false
   },
   "outputs": [
    {
     "ename": "NameError",
     "evalue": "name 'to_work_data' is not defined",
     "output_type": "error",
     "traceback": [
      "\u001b[0;31m---------------------------------------------------------------------------\u001b[0m",
      "\u001b[0;31mNameError\u001b[0m                                 Traceback (most recent call last)",
      "\u001b[0;32m<ipython-input-1-c06398b99dfc>\u001b[0m in \u001b[0;36m<module>\u001b[0;34m()\u001b[0m\n\u001b[1;32m     18\u001b[0m \u001b[0;31m#cid = 342; total_rec = 21k: Replacement keyboard\u001b[0m\u001b[0;34m\u001b[0m\u001b[0;34m\u001b[0m\u001b[0m\n\u001b[1;32m     19\u001b[0m \u001b[0;34m\u001b[0m\u001b[0m\n\u001b[0;32m---> 20\u001b[0;31m \u001b[0mto_work_data\u001b[0m\u001b[0;34m[\u001b[0m\u001b[0mto_work_data\u001b[0m\u001b[0;34m[\u001b[0m\u001b[0;34m'category_id'\u001b[0m\u001b[0;34m]\u001b[0m\u001b[0;34m==\u001b[0m\u001b[0;36m483\u001b[0m\u001b[0;34m]\u001b[0m\u001b[0;34m[\u001b[0m\u001b[0;34m'Title'\u001b[0m\u001b[0;34m]\u001b[0m\u001b[0;34m\u001b[0m\u001b[0m\n\u001b[0m",
      "\u001b[0;31mNameError\u001b[0m: name 'to_work_data' is not defined"
     ]
    }
   ],
   "source": [
    "#cid = 260; total_rec=60k : mouse \n",
    "\n",
    "#cid = 625; total_rec= 46k : Catridge\n",
    "#cid = 666; total_rec = 30k : Catridge\n",
    "\n",
    "#cid = 390; total_rec = 22k: USB Cable\n",
    "#cid = 483; total_rec= 33k : Cables\n",
    "\n",
    "#cid = 618; total_rec = 27k : MicroSDHC Card\n",
    "\n",
    "#cid = 367; total_rec = 26k : stand / holder\n",
    "\n",
    "#cid = 603; total_rec = 24k : memory_module\n",
    "\n",
    "#cid = 539; total_rec = 21k: Sleeve Case\n",
    "#cid = 71; total_rec = 23k : case\n",
    "\n",
    "#cid = 342; total_rec = 21k: Replacement keyboard\n",
    "\n",
    "to_work_data[to_work_data['category_id']==483]['Title']"
   ]
  },
  {
   "cell_type": "code",
   "execution_count": 134,
   "metadata": {
    "collapsed": false
   },
   "outputs": [],
   "source": [
    "laptop_related_cat = (to_work_data[to_work_data['brand_id']==6584])['category_id'].unique()"
   ]
  },
  {
   "cell_type": "code",
   "execution_count": 137,
   "metadata": {
    "collapsed": false
   },
   "outputs": [],
   "source": [
    "automobile_related_cat = (to_work_data[to_work_data['brand_id']==6237])['category_id'].unique()"
   ]
  },
  {
   "cell_type": "code",
   "execution_count": 156,
   "metadata": {
    "collapsed": false
   },
   "outputs": [],
   "source": [
    "electronics_related_cat = (to_work_data[to_work_data['brand_id']==25075])['category_id'].unique()"
   ]
  },
  {
   "cell_type": "code",
   "execution_count": 154,
   "metadata": {
    "collapsed": false
   },
   "outputs": [
    {
     "data": {
      "text/plain": [
       "dtype: int\n",
       "Rows: 179\n",
       "[435, 537, 49, 431, 132, 390, 614, 693, 105, 2, 573, 517, 71, 312, 79, 287, 428, 566, 685, 196, 398, 342, 238, 295, 172, 376, 647, 350, 125, 68, 616, 336, 291, 449, 245, 646, 134, 123, 658, 569, 546, 8, 661, 56, 28, 590, 257, 294, 285, 653, 502, 669, 305, 509, 415, 20, 462, 622, 263, 179, 185, 255, 168, 414, 299, 430, 425, 309, 190, 480, 404, 603, 514, 494, 271, 450, 594, 322, 395, 429, 482, 85, 297, 230, 212, 606, 183, 437, 538, 256, 329, 358, 274, 326, 226, 611, 197, 128, 421, 282, ... ]"
      ]
     },
     "execution_count": 154,
     "metadata": {},
     "output_type": "execute_result"
    }
   ],
   "source": [
    "laptop_related_cat"
   ]
  },
  {
   "cell_type": "code",
   "execution_count": 155,
   "metadata": {
    "collapsed": false
   },
   "outputs": [
    {
     "data": {
      "text/plain": [
       "dtype: int\n",
       "Rows: 5\n",
       "[499, 647, 658, 596, 313]"
      ]
     },
     "execution_count": 155,
     "metadata": {},
     "output_type": "execute_result"
    }
   ],
   "source": [
    "automobile_related_cat"
   ]
  },
  {
   "cell_type": "code",
   "execution_count": 157,
   "metadata": {
    "collapsed": false
   },
   "outputs": [
    {
     "data": {
      "text/plain": [
       "dtype: int\n",
       "Rows: 121\n",
       "[49, 431, 621, 390, 696, 374, 517, 71, 253, 521, 685, 398, 342, 529, 323, 267, 350, 68, 112, 449, 245, 646, 44, 123, 26, 658, 569, 546, 378, 15, 567, 294, 653, 91, 20, 462, 263, 637, 422, 470, 430, 425, 387, 309, 190, 290, 5, 352, 635, 603, 395, 455, 230, 452, 606, 612, 437, 385, 604, 358, 162, 288, 326, 421, 204, 520, 339, 662, 510, 59, 626, 445, 483, 468, 632, 3, 209, 155, 146, 530, 539, 304, 360, 72, 144, 281, 306, 636, 366, 365, 596, 557, 325, 357, 94, 250, 675, 95, 689, 664, ... ]"
      ]
     },
     "execution_count": 157,
     "metadata": {},
     "output_type": "execute_result"
    }
   ],
   "source": [
    "electronics_related_cat"
   ]
  },
  {
   "cell_type": "code",
   "execution_count": 168,
   "metadata": {
    "collapsed": false
   },
   "outputs": [
    {
     "data": {
      "text/plain": [
       "{2,\n",
       " 8,\n",
       " 16,\n",
       " 28,\n",
       " 43,\n",
       " 45,\n",
       " 56,\n",
       " 58,\n",
       " 67,\n",
       " 74,\n",
       " 79,\n",
       " 85,\n",
       " 92,\n",
       " 101,\n",
       " 105,\n",
       " 119,\n",
       " 125,\n",
       " 128,\n",
       " 132,\n",
       " 134,\n",
       " 137,\n",
       " 158,\n",
       " 168,\n",
       " 172,\n",
       " 179,\n",
       " 183,\n",
       " 185,\n",
       " 194,\n",
       " 196,\n",
       " 197,\n",
       " 205,\n",
       " 212,\n",
       " 226,\n",
       " 238,\n",
       " 248,\n",
       " 255,\n",
       " 256,\n",
       " 257,\n",
       " 260,\n",
       " 262,\n",
       " 269,\n",
       " 271,\n",
       " 274,\n",
       " 282,\n",
       " 284,\n",
       " 285,\n",
       " 287,\n",
       " 289,\n",
       " 291,\n",
       " 295,\n",
       " 297,\n",
       " 299,\n",
       " 305,\n",
       " 312,\n",
       " 322,\n",
       " 324,\n",
       " 329,\n",
       " 330,\n",
       " 336,\n",
       " 340,\n",
       " 348,\n",
       " 353,\n",
       " 375,\n",
       " 376,\n",
       " 388,\n",
       " 391,\n",
       " 396,\n",
       " 404,\n",
       " 414,\n",
       " 415,\n",
       " 428,\n",
       " 429,\n",
       " 435,\n",
       " 442,\n",
       " 443,\n",
       " 450,\n",
       " 453,\n",
       " 460,\n",
       " 466,\n",
       " 480,\n",
       " 482,\n",
       " 494,\n",
       " 497,\n",
       " 502,\n",
       " 508,\n",
       " 509,\n",
       " 514,\n",
       " 525,\n",
       " 534,\n",
       " 537,\n",
       " 538,\n",
       " 549,\n",
       " 558,\n",
       " 562,\n",
       " 566,\n",
       " 568,\n",
       " 573,\n",
       " 590,\n",
       " 594,\n",
       " 598,\n",
       " 611,\n",
       " 614,\n",
       " 616,\n",
       " 622,\n",
       " 623,\n",
       " 625,\n",
       " 644,\n",
       " 647,\n",
       " 651,\n",
       " 661,\n",
       " 666,\n",
       " 669,\n",
       " 693,\n",
       " 704}"
      ]
     },
     "execution_count": 168,
     "metadata": {},
     "output_type": "execute_result"
    }
   ],
   "source": [
    "set(laptop_related_cat)-(set(laptop_related_cat).intersection(electronics_related_cat))"
   ]
  },
  {
   "cell_type": "code",
   "execution_count": 170,
   "metadata": {
    "collapsed": false
   },
   "outputs": [
    {
     "data": {
      "text/html": [
       "<div style=\"max-height:1000px;max-width:1500px;overflow:auto;\"><table frame=\"box\" rules=\"cols\">\n",
       "    <tr>\n",
       "        <th style=\"padding-left: 1em; padding-right: 1em; text-align: center\">Title</th>\n",
       "        <th style=\"padding-left: 1em; padding-right: 1em; text-align: center\">brand_id</th>\n",
       "        <th style=\"padding-left: 1em; padding-right: 1em; text-align: center\">category_id</th>\n",
       "        <th style=\"padding-left: 1em; padding-right: 1em; text-align: center\">Default</th>\n",
       "    </tr>\n",
       "    <tr>\n",
       "        <td style=\"padding-left: 1em; padding-right: 1em; text-align: center; vertical-align: top\">OkSoBuy® Samsung Galaxy<br>Tab S 10.5 Inches SM- ...</td>\n",
       "        <td style=\"padding-left: 1em; padding-right: 1em; text-align: center; vertical-align: top\">704</td>\n",
       "        <td style=\"padding-left: 1em; padding-right: 1em; text-align: center; vertical-align: top\">367</td>\n",
       "        <td style=\"padding-left: 1em; padding-right: 1em; text-align: center; vertical-align: top\">0</td>\n",
       "    </tr>\n",
       "    <tr>\n",
       "        <td style=\"padding-left: 1em; padding-right: 1em; text-align: center; vertical-align: top\">OkSoBuy® SAMSUNG GALAXY<br>Tab4 T530 10.1-inch ...</td>\n",
       "        <td style=\"padding-left: 1em; padding-right: 1em; text-align: center; vertical-align: top\">704</td>\n",
       "        <td style=\"padding-left: 1em; padding-right: 1em; text-align: center; vertical-align: top\">367</td>\n",
       "        <td style=\"padding-left: 1em; padding-right: 1em; text-align: center; vertical-align: top\">0</td>\n",
       "    </tr>\n",
       "    <tr>\n",
       "        <td style=\"padding-left: 1em; padding-right: 1em; text-align: center; vertical-align: top\">OkSoBuy® Samsung Galaxy<br>Tab S 10.5 Inches SM- ...</td>\n",
       "        <td style=\"padding-left: 1em; padding-right: 1em; text-align: center; vertical-align: top\">704</td>\n",
       "        <td style=\"padding-left: 1em; padding-right: 1em; text-align: center; vertical-align: top\">367</td>\n",
       "        <td style=\"padding-left: 1em; padding-right: 1em; text-align: center; vertical-align: top\">0</td>\n",
       "    </tr>\n",
       "    <tr>\n",
       "        <td style=\"padding-left: 1em; padding-right: 1em; text-align: center; vertical-align: top\">OkSoBuy® Samsung Galaxy<br>Tab S 10.5 Inches SM- ...</td>\n",
       "        <td style=\"padding-left: 1em; padding-right: 1em; text-align: center; vertical-align: top\">704</td>\n",
       "        <td style=\"padding-left: 1em; padding-right: 1em; text-align: center; vertical-align: top\">297</td>\n",
       "        <td style=\"padding-left: 1em; padding-right: 1em; text-align: center; vertical-align: top\">0</td>\n",
       "    </tr>\n",
       "</table>\n",
       "[? rows x 4 columns]<br/>Note: Only the head of the SFrame is printed. This SFrame is lazily evaluated.<br/>You can use len(sf) to force materialization.\n",
       "</div>"
      ],
      "text/plain": [
       "Columns:\n",
       "\tTitle\tstr\n",
       "\tbrand_id\tint\n",
       "\tcategory_id\tint\n",
       "\tDefault\tint\n",
       "\n",
       "Rows: Unknown\n",
       "\n",
       "Data:\n",
       "+-------------------------------+----------+-------------+---------+\n",
       "|             Title             | brand_id | category_id | Default |\n",
       "+-------------------------------+----------+-------------+---------+\n",
       "| OkSoBuy® Samsung Galaxy Ta... |   704    |     367     |    0    |\n",
       "| OkSoBuy® SAMSUNG GALAXY Ta... |   704    |     367     |    0    |\n",
       "| OkSoBuy® Samsung Galaxy Ta... |   704    |     367     |    0    |\n",
       "| OkSoBuy® Samsung Galaxy Ta... |   704    |     297     |    0    |\n",
       "+-------------------------------+----------+-------------+---------+\n",
       "[? rows x 4 columns]\n",
       "Note: Only the head of the SFrame is printed. This SFrame is lazily evaluated.\n",
       "You can use len(sf) to force materialization."
      ]
     },
     "execution_count": 170,
     "metadata": {},
     "output_type": "execute_result"
    }
   ],
   "source": [
    "to_work_data[to_work_data['brand_id']==704]"
   ]
  },
  {
   "cell_type": "code",
   "execution_count": 175,
   "metadata": {
    "collapsed": false
   },
   "outputs": [
    {
     "data": {
      "text/plain": [
       "dtype: str\n",
       "Rows: ?\n",
       "['Silicone Keyboard Cover Skin for New MacBook', 'InvisibleShield for LG G Slate Full Body LGGSLALE', 'PCI MPC305SPFB-PCI LANIER MPC305SPF BLK TONER CARTRIDGE 12K', 'Amzer Silicone Jelly Skin Fit Case Cover for Apple iPad 2 and iPad 3 - Black', 'Lenovo ThinkPad W520 42824YU 15.6 LED Notebook Core i7 i7-2860QM 2.50GHz 8GB DDR3 500GB HDD DVD-Writer NVIDIA Quadro 2000M Bluetooth Finger Print Reader Windows 7 Professional 64-bit', 'Large Mouse pad Alfa Romeo Logo Wallpaper Customized Rectangle Non-Slip Rubber Mousepad Gaming Mouse Pad', 'HOTCOLOR (TM) 3 Pack (1 Cyan 1 Magenta 1 Yellow) Canon 118 Compatible Toner For Canon 118 ImageClass Lbp7200 Lbp7200cdn Lbp7660 Lbp7660cdn Mf8350 Mf8350cdn Mf8380cdw Mf8580cdw Printer', 'Decalrus - Decal Skin Sticker for Acer Aspire R7 13 with 15.6\" screen IMPORTANT NOTE: compare your laptop to \"IDENTIFY\" image on this listing for correct model case cover wrap R7-103', '15\" Laptop sleeve by Cul-de-sac', 'Ultra Bright Portable Mini Flexible LED USB Light Reading Lamp 28LED For Laptop Notebook PC Computer Desktop', 'Apple iPad mini with Retina Display MF088LL/A 64GB, Wi-Fi + Sprint, Black with Space Gray OLD VERSION', '32GB Secure Digital High Capacity Class 10 SDHC Memory card for Canon EOS C300 PL 8.29 Megapixel Cinema EOS Camera + Free USB SD/SDHC Card Reader', '256GB Fast SSD Hard Disk Drive with 2 Year Warranty for Sony VAIO VPCF-11PFX laptop HDD Computer - Certified 2 Year Warranty from Seifelden', 'Fintie Kindle Fire HD 7 2013 Old Model Folio Key Removable Bluetooth Keyboard Case will only fit Amazon Kindle Fire HD 7\", Previous Generation - 3rd - Black', 'XKTTSUEERCRR Samsung Galaxy Tab S 10.5 inch Ultra-Thin High Quality Bluetooth Keyboard Portfolio Case - DETACHABLE Bluetooth Wireless Keyboard Stand Case / Cover for Samsung Galaxy Tab S 10.5 Table SM-T800 with Self Timer and Remote Control Camera Shutter', 'Professional Kingston MicroSDHC 16GB 16 Gigabyte Card for Yezz YZ1120 Smartphone Phone with custom formatting and Standard SD Adapter. SDHC Class 4 Certified', 'LED Dancing Water Music Fountain Light Speakers for PC Laptop iPhone iPad iPod Black', 'Professional Kingston MicroSDHC 32GB 32 Gigabyte Card for Samsung Star Duos Phone with custom formatting and Standard SD Adapter. SDHC Class 4 Certified', '64GB Fast SSD Hard Disk Drive with 2 Year Warranty for HP Pavilion DV5-1131LA laptop HDD Computer - Certified 2 Year Warranty from Seifelden', 'Hard Nylon Carrying Briefcase Cube For Dell Venue 8 Pro BELL8-Pro81 BELL8-1818BLK + Black Bluetooth Suction Speaker', 'ST250LT003, 9YG14C-030, 0001DEM1, 4800 E, Seagate SATA 2.5 PCB', 'CRD-IP-3G-BK Universal Cradle Station - USB - Black', '4 Port DVI USB KVM Switch with Audio', '3dRose LLC 8 x 8 x 0.25 Inches Mouse Pad, Alder Creek, Raymond Klass (mp_91452_1)', 'CPU INTEL PENTIUM 4 2.60GHZ/512/800 SL6WH', 'HP Compaq Presario CQ60-42 Laptop Keyboard Black Compatible Replacement', '512MB RAM Memory for Premio Minos Series Minos 845EM 184pin PC2100 DDR DIMM 266MHz Black Diamond Memory Module Upgrade', 'SoDo Tek TM RJ45 Cat5e Ethernet Patch Cable For Buffalo WLA2-G54L - Blue - 25 ft', 'Kensington Kensington Wrist Pillow Extended Platform - Black - NEW - Generic - 36822', 'Removable Laptop Decal I'd Rather Be Playing Lacrosse - Blue MacBook Pro - 15\" ', 'iShoppingdeals - for Lenovo IdeaTab A10-70 10.1-INCH Tablet A7600-F USB Data Sync Charging Transfer Cable Cord 6 Feet, Blue/White', 'Waterproof Case Bag Cover for Apple iPad Mini, with earphone connector, Kindle Fire HD 7,Waterproof Case for iPad Mini, Ipad Mini Waterproof Case,Waterproof Case Ipad Nexus 7 Certificated and Tested upto 30 feet White', 'Canon Compatible PGI-250XLBK Black High Yield Pigment Inkjet 2/PK 6432B004', 'ACARD ARS-2055PF 1-to-5 SATA HDD/SSD/DOM Duplicator Controller 30MB/Sec', 'Clearchat Comfort Usb', 'Toshiba K000099630 power supply 65 watt original', 'Linksys LGS108 8-Port Desktop Gigabit Switch', 'IVRTN115M - TN115M Compatible High-Yield Toner', \"Cool Print Custom Animal Shoulder Bag For Girl's Gift (17 17.3 Inch) with Hidden Handle and Adjustable Shoulder Strap For Lenovo ThinkPad ASUS Apple DELL acer HP Microsoft SAMSUNG TOSHIBA - CB-17-6552\", 'C8556A HP 822A 110V/220V Image Fuser Kit, High-Yield', 'Esaska TM 9287301 FELLOWES Plush Touch Mousepad with Wristrest Blue ,FoamFusion+Microban', 'Piratas do caribe Mouse Pad, Mousepad (10.2 x 8.3 x 0.12 inches)', 'HP - Q7551A HP 51A Toner, 6500 Page-Yield, Black - Sold As 1 Each - HP toner has reliable quality.', 'C&E 10-Feet Cat6 Gray Ethernet Crossover Cable, Snagless/Molded Boot - Pack of 10 CNE15126', 'Customized Famous Painting Series Riverside Village Special Design Water Resistant Hard Case for Macbook Pro 13\" with Cd-rom Drive (Non-retina Display) Model A1278', 'Sony Vaio VGN-FW290JRB Compatible Laptop DC Jack Socket With Cable', '50 ft Cat6 Grey Molded RJ45 UTP Patch Cable', 'Intel Pentium D 950 Dual Core Processor CPU 3.40GHz 4M/800 SL95V Socket LGA775', 'FINTIE Black Slim Fit Folio Stand Leather Case for Amazon Kindle Fire 7\" Tablet -10 Color Options does not fit Kindle Fire HD', 'Brand New Startech Add 2 High-Speed Parallel Ports Epp/Ecp/Spp To Your Desktop Computer Through A \"Product Category: Network Adapter / Other\"', '4400mAh Battery for Asus 70-NX01B1000Z 70-NXH1B1000Z 70-NZY1B1000Z (10.8V, Black)', 'Decalrus MATTE Protective Decal Skin Sticker for Alienware 17 with 17.3in Screen IMPORTANT: To get correct skin for your device MUST view IDENTIFY image case cover MAT2013Alienware17-538', 'Dewald Family Crest Coat of Arms Mouse Pad', 'Laser Tek Services ® 4PK Black Toner Refill for HP Q6511A 11A LaserJet 2420 2420dn 2420n 2430 2430n 2430n', 'CANON - InkJet Ink', 'Toshiba Satellite L775D-S7340 Laptop Power AC Adapter / Charger', 'GPK Systems Car Charger for Acer Iconia Tab W500 W500-bz414 W500-bz433 W500-bz467 W500-bz484 W500-bz607 W500-bz610 W500p W500p-0820 W500p-bz412 W500p-bz444 W500p-bz841 Lc.adt0a.023 Le.rk602.047 Le.l0803.047 Tablet Laptop Power Supply Cord Notebook Battery Charger', 'OEM Engine Computer Programmed & Flashed 2002 Ford Ranger', 'Horses Mousepad, Gaming Rectangular Mouse Pad', 'Joylive 3 in 1 Bundle Rubberized Frosted Soft Touch Hard Shell Case Cover for Macbook 13.3\" Air & Keyboard Cover,Blue Pink', 'Panasonic Original Brand (OEM) Toner: Black DQTUS28K', '2TB 2.5\" Laptop Hard Drive for Toshiba Satellite L355-S7831 L355-S78312 L355-S7834 L355-S7835', 'Arrowmounts 1000Ft Cat 6 Cat6 Solid Ethernet LAN Network Cable Plenum (CMP) White (AM-Cat6-Bulk-011WT)', 'Carolines Treasures SS8161MP Pomeranian Mouse Pad, Hot Pad & Trivet', \"Excellent Customized Colorful Animal Shoulder Bag Suitalbe Men's (13-13.3 Inch) For Notebook / Macbook Air / Macbook Pro / Macbook with Extra Side Pocket, Soft Carrying Handle & Removable Shoulder Strap for Chromebook Ultrabook Macbook Pro Air HP Dell Acer Sony Lenovo IBM Samsung - CB-13-24239\", 'Inland Basic 6-Outlet Surge Protector', 'ERIMAI 82MM Ultrathin UV Filter', 'ThePhoneCovers 3 Pcs Colorful Soft-Touch Long Metal Stylus Accessory Bundle Pens compatible with Ipad air, leapfrog, leap frog, android nexus and all Touch Screen devices Light Blue/Black/Dark Blue', 'Compatible Xerox 6280 Cyan Toner Cartridge', '2NG1874 - IBM Xeon E5-2665 2.40 GHz Processor Upgrade - Socket R LGA-2011', 'Acer Extensa 4420 Dvd+rw Burner Drive Dl Multi Recorder Gsa-t40n', 'Innovera D3101 D3101 Compatible High-Yield Toner, 4000 Page-Yield, Yellow', 'Italy Firenze City At Evening Sunset Amazon Kindle Fire HD 7 [2012 Version Only September 14, 2012] Flip Case Stand Magnetic Cover Open Ports Customized Made to Order Support Ready Premium Deluxe Pu Leather 7 11/16 Inch 195mm X 5 11/16 Inch 145mm X 11/16 Inch 17mm Liil Professional Kindle_fire Cases Kindle7 Accessories Build Model Graphic Background Covers Designed Model Folio Sleeve HD Template Designed Wallpaper Photo Jacket Luxury Protector', 'HP DF Solid Color Frosted PC Hard Case for MacBook Pro 13\"(Assorted Colors) , Yellow', 'A Case for Good Passport Carrying Case for iPad Mini TWR008G', '- 106R00675 High-Yield Toner, 8000 Page-Yield, Black -', 'LA Printer 1PK Yellow Compatible Canon CLI-226Y Ink Cartridge Use for PIXMA iP4820 iP4920 iX6520 MG5120 MG5210 MG5220 MG5320 MG6120 MG8120 MG8120B MX882 MG8220 MG6220 MX712 MX892 Printers', 'Fabrique WIB FWB14BKMIAMI Miami Carrying Case Backpack for 14.1\" Notebook - Twill Polyester', 'Intellinet 525251 CEILING MOUNT, 300 MBPS, 2T2R MIMO, POE SUPPORT, BRIDGE, REPEATER, MULTIPLE SSID', '60GB SATA 3 III SSD Solid State Drive Certified for the Toshiba Satellite Pro L500-1W4 by Arch Memory', 'FELLOWES 8031001 Premium Monitor Riser', 'Professional ULTRA PLUS SanDisk 32GB MicroSDHC HP Slate 6 VoiceTab Card is Custom formatted for high speed data transfers with NO LOSS recordings! With Standard SD Adapter. (48MB/S, Class 10, UHS-1)', 'New CPU Cooling Fan for Lenovo IdeaPad Y550 Y550A Y550M Y550P series laptop.', 'Professional ULTRA PLUS SanDisk 64GB MicroSDHC Nokia N9-01 Card is Custom formatted to keep up with your high speed data transfer requirements and no loss recordings! Includes Standard SD Adapter. 40MB/S, UHS-1', 'IOGEAR GKM681R 2.4GHz Wireless Compact Keyboard with Optical Trackball and Scroll Wheel Silver/Black', 'Faith Symbol Sign Cloudy Sky Amazon Kindle Fire HD 7 [2012 Version Only September 14, 2012] Flip Case Stand Magnetic Cover Open Ports Customized Made to Order Support Ready Premium Deluxe Pu Leather 7 11/16 Inch 195mm X 5 11/16 Inch 145mm X 11/16 Inch 17mm Liil Professional Kindle_fire Cases Kindle7 Accessories Build Model Graphic Background Covers Designed Model Folio Sleeve HD Template Designed Wallpaper Photo Jacket Luxury Protector', 'ZCLUSB 3.0 Male to Mini USB 3.0 Male Cable with mSATA Case 0.3M', 'INKUTEN © 5 HP PSC 2108 Ink Cartridges Combo Pack Compatible', 'Decalrus - Decal Skin Sticker for Sony VAIO Fit Series with 15.6\" Touchscreen laptop NOTES: Compare your laptop to IDENTIFY image on this listing for correct model case cover wrap SnyVaioFIT-220', 'SOUND CARD PCI, SOUND BLASTER LIVE! 5.1 SB0100, b.42', 'SIIG - JU-H70311-S1 - SIIG USB 3.0 & 2.0 Hub with Gigabit Ethernet and 5V/4A Adapter - USB - External - 6 USB Port s - 1 Network RJ-45 Port s', 'BodyGuardz Armor Rindz Full Body Stylish Protector for iPad Air, Pink Grapefruit BZ-ARGP5-1013', 'AP8704S - Lifetime Warranty', 'HPT USA/Highpoint Tech RR2720SGL SAS/SATA 6Gb/s RAID Adapter', 'Laptop Sleeve with Anime Girl Fresh Wallpapers Hd Backgrounds Patterns Waterproof Canvas Fabric 15 15.6 Inch Laptop Bag Case Cover(Twin Sides)', 'MODULE, COUPLER, RJ-11, PIN 1-1, BLACK', 'WD Retail - 500GB My Passport Ultra Blue', 'Designer Mousepad Nature Unique Mouse Pads 220MM X 180MM X 3M', 'Crystal Case Rhinestone Wireless USB Slimline Flat Computer Bling Mouse Purple', 'ACP - Memory Upgrades FACTORY APPROVED 256MB CF F/CISCO 1900-3900 series. 256MB COMPACT FLASH UPG F/CISCO FACTORY ORIGINAL APPROVED PART -KIT FL-CRD. 256 MB', ... ]"
      ]
     },
     "execution_count": 175,
     "metadata": {},
     "output_type": "execute_result"
    }
   ],
   "source": [
    "(to_work_data.sample(0.0001, seed=5))['Title']"
   ]
  },
  {
   "cell_type": "code",
   "execution_count": 171,
   "metadata": {
    "collapsed": false
   },
   "outputs": [
    {
     "data": {
      "text/plain": [
       "999610"
      ]
     },
     "execution_count": 171,
     "metadata": {},
     "output_type": "execute_result"
    }
   ],
   "source": [
    "len(to_work_data)"
   ]
  },
  {
   "cell_type": "code",
   "execution_count": 173,
   "metadata": {
    "collapsed": false
   },
   "outputs": [
    {
     "data": {
      "text/plain": [
       "99.961"
      ]
     },
     "execution_count": 173,
     "metadata": {},
     "output_type": "execute_result"
    }
   ],
   "source": [
    "0.0001*999610"
   ]
  },
  {
   "cell_type": "code",
   "execution_count": null,
   "metadata": {
    "collapsed": true
   },
   "outputs": [],
   "source": []
  }
 ],
 "metadata": {
  "kernelspec": {
   "display_name": "Python 2",
   "language": "python",
   "name": "python2"
  },
  "language_info": {
   "codemirror_mode": {
    "name": "ipython",
    "version": 2
   },
   "file_extension": ".py",
   "mimetype": "text/x-python",
   "name": "python",
   "nbconvert_exporter": "python",
   "pygments_lexer": "ipython2",
   "version": "2.7.11"
  }
 },
 "nbformat": 4,
 "nbformat_minor": 0
}
